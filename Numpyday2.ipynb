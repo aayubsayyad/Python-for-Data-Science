{
 "cells": [
  {
   "cell_type": "code",
   "execution_count": 1,
   "id": "ab573f4e-fa70-4eee-83cf-5edc27eba6ce",
   "metadata": {},
   "outputs": [],
   "source": [
    "import numpy as np"
   ]
  },
  {
   "cell_type": "code",
   "execution_count": 2,
   "id": "d128144a-f209-4e2c-8059-1d24e62c1bb2",
   "metadata": {},
   "outputs": [
    {
     "data": {
      "text/plain": [
       "array([ 0,  1,  2,  3,  4,  5,  6,  7,  8,  9, 10, 11])"
      ]
     },
     "execution_count": 2,
     "metadata": {},
     "output_type": "execute_result"
    }
   ],
   "source": [
    "arr1 = np.arange(12) # last number is added in array. start with zero\n",
    "arr1"
   ]
  },
  {
   "cell_type": "code",
   "execution_count": 3,
   "id": "4e20e1ab-37bb-48b1-a65d-c0ce8fe5751c",
   "metadata": {},
   "outputs": [],
   "source": [
    "def info_array(a):\n",
    "    print(\"Dimensions -\", a.ndim)\n",
    "    print(\"Shape -\", a.shape)\n",
    "    print(\"Size (Number of elements) -\", a.size)\n",
    "    print(\"Datatype -\",a.dtype)"
   ]
  },
  {
   "cell_type": "markdown",
   "id": "11d2cce9-b04a-42a9-8376-a12764cd008f",
   "metadata": {},
   "source": [
    "####NUMPY NOTES\n",
    "\n",
    "* arrange - to create range of elements-np.arange(start,end,step)\n",
    "* linspace - to create the range of elements with number of element this will calculate step size by its own,it will also\n",
    "  include the start and end value -np.linspace(start,end,number of element)\n",
    "* reshape -change the shape of array np,reshape(row,column), while reshaping array the size of array should not change\n",
    "* resize - changes the size of an array with given dimension, we can change array in any size, it is not dependent on how\n",
    "  many number of element present in your array"
   ]
  },
  {
   "cell_type": "code",
   "execution_count": 4,
   "id": "11a840b0-3c9c-403a-b88d-61f11a7df00c",
   "metadata": {},
   "outputs": [
    {
     "name": "stdout",
     "output_type": "stream",
     "text": [
      "Dimensions - 1\n",
      "Shape - (12,)\n",
      "Size (Number of elements) - 12\n",
      "Datatype - int32\n"
     ]
    }
   ],
   "source": [
    "info_array(arr1)"
   ]
  },
  {
   "cell_type": "code",
   "execution_count": 5,
   "id": "4b82b236-c5b2-4e01-a16b-648078907f04",
   "metadata": {},
   "outputs": [
    {
     "data": {
      "text/plain": [
       "array([1.        , 1.03030303, 1.06060606, 1.09090909, 1.12121212,\n",
       "       1.15151515, 1.18181818, 1.21212121, 1.24242424, 1.27272727,\n",
       "       1.3030303 , 1.33333333, 1.36363636, 1.39393939, 1.42424242,\n",
       "       1.45454545, 1.48484848, 1.51515152, 1.54545455, 1.57575758,\n",
       "       1.60606061, 1.63636364, 1.66666667, 1.6969697 , 1.72727273,\n",
       "       1.75757576, 1.78787879, 1.81818182, 1.84848485, 1.87878788,\n",
       "       1.90909091, 1.93939394, 1.96969697, 2.        ])"
      ]
     },
     "execution_count": 5,
     "metadata": {},
     "output_type": "execute_result"
    }
   ],
   "source": [
    "arr2 = np.linspace(1, 2, 34)\n",
    "arr2"
   ]
  },
  {
   "cell_type": "code",
   "execution_count": 6,
   "id": "8fd509b1-e670-4876-9681-93ca34ad2504",
   "metadata": {},
   "outputs": [
    {
     "data": {
      "text/plain": [
       "array([10., 17., 24., 31., 38., 45.])"
      ]
     },
     "execution_count": 6,
     "metadata": {},
     "output_type": "execute_result"
    }
   ],
   "source": [
    "arr3 = np.linspace(10, 45, 6)\n",
    "arr3"
   ]
  },
  {
   "cell_type": "code",
   "execution_count": 7,
   "id": "5b656176-4505-4eb9-936e-7e62d569ff92",
   "metadata": {},
   "outputs": [
    {
     "data": {
      "text/plain": [
       "array([1.        , 1.03225806, 1.06451613, 1.09677419, 1.12903226,\n",
       "       1.16129032, 1.19354839, 1.22580645, 1.25806452, 1.29032258,\n",
       "       1.32258065, 1.35483871, 1.38709677, 1.41935484, 1.4516129 ,\n",
       "       1.48387097, 1.51612903, 1.5483871 , 1.58064516, 1.61290323,\n",
       "       1.64516129, 1.67741935, 1.70967742, 1.74193548, 1.77419355,\n",
       "       1.80645161, 1.83870968, 1.87096774, 1.90322581, 1.93548387,\n",
       "       1.96774194, 2.        , 2.03225806, 2.06451613, 2.09677419,\n",
       "       2.12903226, 2.16129032, 2.19354839, 2.22580645, 2.25806452,\n",
       "       2.29032258, 2.32258065, 2.35483871, 2.38709677, 2.41935484,\n",
       "       2.4516129 , 2.48387097, 2.51612903, 2.5483871 , 2.58064516,\n",
       "       2.61290323, 2.64516129, 2.67741935, 2.70967742, 2.74193548,\n",
       "       2.77419355, 2.80645161, 2.83870968, 2.87096774, 2.90322581,\n",
       "       2.93548387, 2.96774194, 3.        , 3.03225806, 3.06451613,\n",
       "       3.09677419, 3.12903226, 3.16129032, 3.19354839, 3.22580645,\n",
       "       3.25806452, 3.29032258, 3.32258065, 3.35483871, 3.38709677,\n",
       "       3.41935484, 3.4516129 , 3.48387097, 3.51612903, 3.5483871 ,\n",
       "       3.58064516, 3.61290323, 3.64516129, 3.67741935, 3.70967742,\n",
       "       3.74193548, 3.77419355, 3.80645161, 3.83870968, 3.87096774,\n",
       "       3.90322581, 3.93548387, 3.96774194, 4.        , 4.03225806,\n",
       "       4.06451613, 4.09677419, 4.12903226, 4.16129032, 4.19354839,\n",
       "       4.22580645, 4.25806452, 4.29032258, 4.32258065, 4.35483871,\n",
       "       4.38709677, 4.41935484, 4.4516129 , 4.48387097, 4.51612903,\n",
       "       4.5483871 , 4.58064516, 4.61290323, 4.64516129, 4.67741935,\n",
       "       4.70967742, 4.74193548, 4.77419355, 4.80645161, 4.83870968,\n",
       "       4.87096774, 4.90322581, 4.93548387, 4.96774194, 5.        ])"
      ]
     },
     "execution_count": 7,
     "metadata": {},
     "output_type": "execute_result"
    }
   ],
   "source": [
    "arr5 = np.linspace(1, 5 , 125)\n",
    "arr5"
   ]
  },
  {
   "cell_type": "code",
   "execution_count": 8,
   "id": "1401ff57-11f7-44ce-b886-90ee4afb4a5f",
   "metadata": {},
   "outputs": [
    {
     "name": "stdout",
     "output_type": "stream",
     "text": [
      "Dimensions - 1\n",
      "Shape - (125,)\n",
      "Size (Number of elements) - 125\n",
      "Datatype - float64\n"
     ]
    }
   ],
   "source": [
    "info_array(arr5)"
   ]
  },
  {
   "cell_type": "code",
   "execution_count": 9,
   "id": "a5320cf1-eafd-48d7-b3f2-994f9bb1d426",
   "metadata": {},
   "outputs": [
    {
     "data": {
      "text/plain": [
       "array([ 1,  2,  3,  4,  5,  6,  7,  8,  9, 10, 11, 12, 13, 14, 15, 16, 17,\n",
       "       18, 19, 20, 21, 22, 23, 24])"
      ]
     },
     "execution_count": 9,
     "metadata": {},
     "output_type": "execute_result"
    }
   ],
   "source": [
    "arr6 = np.linspace(1, 24, 24, dtype=\"int\")\n",
    "arr6"
   ]
  },
  {
   "cell_type": "code",
   "execution_count": 11,
   "id": "abcb8b45-106f-4951-84de-3edfdc06b8ca",
   "metadata": {},
   "outputs": [
    {
     "data": {
      "text/plain": [
       "array([[ 1,  2,  3,  4,  5,  6],\n",
       "       [ 7,  8,  9, 10, 11, 12],\n",
       "       [13, 14, 15, 16, 17, 18],\n",
       "       [19, 20, 21, 22, 23, 24]])"
      ]
     },
     "execution_count": 11,
     "metadata": {},
     "output_type": "execute_result"
    }
   ],
   "source": [
    "arr6.reshape(4,6)"
   ]
  },
  {
   "cell_type": "code",
   "execution_count": 12,
   "id": "76e9bdce-1a64-4a36-b8d7-7eb4812e7717",
   "metadata": {},
   "outputs": [
    {
     "data": {
      "text/plain": [
       "array([[ 1,  2,  3,  4],\n",
       "       [ 5,  6,  7,  8],\n",
       "       [ 9, 10, 11, 12],\n",
       "       [13, 14, 15, 16],\n",
       "       [17, 18, 19, 20],\n",
       "       [21, 22, 23, 24]])"
      ]
     },
     "execution_count": 12,
     "metadata": {},
     "output_type": "execute_result"
    }
   ],
   "source": [
    "arr6.reshape(6,4)"
   ]
  },
  {
   "cell_type": "code",
   "execution_count": 14,
   "id": "14049041-c411-438b-9e1f-cc75705404e7",
   "metadata": {},
   "outputs": [
    {
     "data": {
      "text/plain": [
       "array([[[ 1,  2],\n",
       "        [ 3,  4],\n",
       "        [ 5,  6],\n",
       "        [ 7,  8]],\n",
       "\n",
       "       [[ 9, 10],\n",
       "        [11, 12],\n",
       "        [13, 14],\n",
       "        [15, 16]],\n",
       "\n",
       "       [[17, 18],\n",
       "        [19, 20],\n",
       "        [21, 22],\n",
       "        [23, 24]]])"
      ]
     },
     "execution_count": 14,
     "metadata": {},
     "output_type": "execute_result"
    }
   ],
   "source": [
    "arr6.reshape(3,4,2)"
   ]
  },
  {
   "cell_type": "code",
   "execution_count": 15,
   "id": "b10dec4e-6be2-4580-96c3-46e45e860b75",
   "metadata": {},
   "outputs": [
    {
     "data": {
      "text/plain": [
       "(3, 4, 2)"
      ]
     },
     "execution_count": 15,
     "metadata": {},
     "output_type": "execute_result"
    }
   ],
   "source": [
    "np.shape(arr6.reshape(3,4,2))"
   ]
  },
  {
   "cell_type": "code",
   "execution_count": 16,
   "id": "c350d6e5-d748-4b61-aace-a34e80c43b75",
   "metadata": {},
   "outputs": [
    {
     "data": {
      "text/plain": [
       "array([ 1,  2,  3,  4,  5,  6,  7,  8,  9, 10, 11, 12, 13, 14, 15, 16, 17,\n",
       "       18, 19, 20, 21, 22, 23, 24])"
      ]
     },
     "execution_count": 16,
     "metadata": {},
     "output_type": "execute_result"
    }
   ],
   "source": [
    "arr6"
   ]
  },
  {
   "cell_type": "code",
   "execution_count": 17,
   "id": "06e98adc-3625-4ba6-8a9a-9072e3cb1e3c",
   "metadata": {},
   "outputs": [
    {
     "data": {
      "text/plain": [
       "array([[ 1,  2,  3,  4],\n",
       "       [ 5,  6,  7,  8],\n",
       "       [ 9, 10, 11, 12],\n",
       "       [13, 14, 15, 16],\n",
       "       [17, 18, 19, 20],\n",
       "       [21, 22, 23, 24]])"
      ]
     },
     "execution_count": 17,
     "metadata": {},
     "output_type": "execute_result"
    }
   ],
   "source": [
    "arr6 = arr6.reshape(6,4)\n",
    "arr6"
   ]
  },
  {
   "cell_type": "code",
   "execution_count": 18,
   "id": "533f2d56-7381-41d3-a926-e72a86f07b6a",
   "metadata": {},
   "outputs": [
    {
     "data": {
      "text/plain": [
       "array([ 1,  2,  3,  4,  5,  6,  7,  8,  9, 10, 11, 12, 13, 14, 15, 16, 17,\n",
       "       18, 19, 20, 21, 22, 23, 24])"
      ]
     },
     "execution_count": 18,
     "metadata": {},
     "output_type": "execute_result"
    }
   ],
   "source": [
    "arr6.reshape(24)"
   ]
  },
  {
   "cell_type": "code",
   "execution_count": 19,
   "id": "afbdaf7c-b01f-49ee-ac7a-6141a0171511",
   "metadata": {},
   "outputs": [
    {
     "data": {
      "text/plain": [
       "array([[ 1,  2,  3,  4,  5,  6,  7,  8,  9, 10, 11, 12, 13, 14, 15, 16,\n",
       "        17, 18, 19, 20, 21, 22, 23, 24]])"
      ]
     },
     "execution_count": 19,
     "metadata": {},
     "output_type": "execute_result"
    }
   ],
   "source": [
    "arr6.reshape(1,-1)"
   ]
  },
  {
   "cell_type": "raw",
   "id": "2b4bdc66-60ab-4bf8-8492-0d23056e947d",
   "metadata": {},
   "source": []
  },
  {
   "cell_type": "code",
   "execution_count": 20,
   "id": "f051ea6a-4897-4bef-82ff-4379004c2782",
   "metadata": {},
   "outputs": [
    {
     "data": {
      "text/plain": [
       "(1, 24)"
      ]
     },
     "execution_count": 20,
     "metadata": {},
     "output_type": "execute_result"
    }
   ],
   "source": [
    "arr6.reshape(1,-1).shape"
   ]
  },
  {
   "cell_type": "code",
   "execution_count": 21,
   "id": "6b7f7aa3-2fbc-4c51-92e8-b421c7f31875",
   "metadata": {},
   "outputs": [
    {
     "data": {
      "text/plain": [
       "(24,)"
      ]
     },
     "execution_count": 21,
     "metadata": {},
     "output_type": "execute_result"
    }
   ],
   "source": [
    "arr6.reshape(24).shape"
   ]
  },
  {
   "cell_type": "code",
   "execution_count": 22,
   "id": "9caad734-0504-46c6-b101-05f639284df7",
   "metadata": {},
   "outputs": [
    {
     "data": {
      "text/plain": [
       "array([[ 1,  2,  3,  4],\n",
       "       [ 5,  6,  7,  8],\n",
       "       [ 9, 10, 11, 12],\n",
       "       [13, 14, 15, 16],\n",
       "       [17, 18, 19, 20],\n",
       "       [21, 22, 23, 24]])"
      ]
     },
     "execution_count": 22,
     "metadata": {},
     "output_type": "execute_result"
    }
   ],
   "source": [
    "arr6"
   ]
  },
  {
   "cell_type": "code",
   "execution_count": 23,
   "id": "fc6bd53b-2666-4006-9582-1491dee63692",
   "metadata": {},
   "outputs": [
    {
     "data": {
      "text/plain": [
       "array([ 1,  2,  3,  4,  5,  6,  7,  8,  9, 10, 11, 12, 13, 14, 15, 16, 17,\n",
       "       18, 19, 20, 21, 22, 23, 24])"
      ]
     },
     "execution_count": 23,
     "metadata": {},
     "output_type": "execute_result"
    }
   ],
   "source": [
    "arr6.reshape(24)"
   ]
  },
  {
   "cell_type": "code",
   "execution_count": 24,
   "id": "ff83b85d-b29e-4370-8f6f-4eafb80562bf",
   "metadata": {},
   "outputs": [
    {
     "data": {
      "text/plain": [
       "array([ 1,  2,  3,  4,  5,  6,  7,  8,  9, 10, 11, 12, 13, 14, 15, 16, 17,\n",
       "       18, 19, 20, 21, 22, 23, 24])"
      ]
     },
     "execution_count": 24,
     "metadata": {},
     "output_type": "execute_result"
    }
   ],
   "source": [
    "arr6.ravel(\"C\")   # C programming"
   ]
  },
  {
   "cell_type": "code",
   "execution_count": 25,
   "id": "d5a07e8d-dd46-4a17-a326-cf30784ae3f8",
   "metadata": {},
   "outputs": [
    {
     "data": {
      "text/plain": [
       "array([ 1,  5,  9, 13, 17, 21,  2,  6, 10, 14, 18, 22,  3,  7, 11, 15, 19,\n",
       "       23,  4,  8, 12, 16, 20, 24])"
      ]
     },
     "execution_count": 25,
     "metadata": {},
     "output_type": "execute_result"
    }
   ],
   "source": [
    "arr6.ravel(\"F\")    # FORTRON 77 language"
   ]
  },
  {
   "cell_type": "code",
   "execution_count": 26,
   "id": "24871de9-95b9-40b0-afa2-418e73985f76",
   "metadata": {},
   "outputs": [],
   "source": [
    "arr6.resize(8,3)"
   ]
  },
  {
   "cell_type": "code",
   "execution_count": 24,
   "id": "aecb6979-211c-48ed-8409-30c4bfe3f707",
   "metadata": {},
   "outputs": [
    {
     "data": {
      "text/plain": [
       "array([[ 1,  2,  3],\n",
       "       [ 4,  5,  6],\n",
       "       [ 7,  8,  9],\n",
       "       [10, 11, 12],\n",
       "       [13, 14, 15],\n",
       "       [16, 17, 18],\n",
       "       [19, 20, 21],\n",
       "       [22, 23, 24]])"
      ]
     },
     "execution_count": 24,
     "metadata": {},
     "output_type": "execute_result"
    }
   ],
   "source": [
    "arr6"
   ]
  },
  {
   "cell_type": "code",
   "execution_count": 27,
   "id": "75da1bbe-a67b-4dd3-9c0c-693fcf6afab4",
   "metadata": {},
   "outputs": [
    {
     "data": {
      "text/plain": [
       "array([[ 1,  2,  3,  4,  5,  6,  7,  8],\n",
       "       [ 9, 10, 11, 12, 13, 14, 15, 16],\n",
       "       [17, 18, 19, 20, 21, 22, 23, 24]])"
      ]
     },
     "execution_count": 27,
     "metadata": {},
     "output_type": "execute_result"
    }
   ],
   "source": [
    "arr6.resize(3,8)\n",
    "arr6"
   ]
  },
  {
   "cell_type": "markdown",
   "id": "72ae9961-f2d6-4856-b9d0-b98c2892d00b",
   "metadata": {},
   "source": [
    "arr6.resize(7,5)  # not possible"
   ]
  },
  {
   "cell_type": "code",
   "execution_count": 28,
   "id": "df001b95-701a-4196-820e-24735e03d9c4",
   "metadata": {},
   "outputs": [
    {
     "data": {
      "text/plain": [
       "array([[ 1,  2,  3,  4,  5],\n",
       "       [ 6,  7,  8,  9, 10],\n",
       "       [11, 12, 13, 14, 15],\n",
       "       [16, 17, 18, 19, 20],\n",
       "       [21, 22, 23, 24,  1],\n",
       "       [ 2,  3,  4,  5,  6],\n",
       "       [ 7,  8,  9, 10, 11]])"
      ]
     },
     "execution_count": 28,
     "metadata": {},
     "output_type": "execute_result"
    }
   ],
   "source": [
    "np.resize(arr6, (7,5))  # possible"
   ]
  },
  {
   "cell_type": "code",
   "execution_count": 29,
   "id": "c9d11abc-ab17-4a01-a87b-6fbac28c21da",
   "metadata": {},
   "outputs": [
    {
     "data": {
      "text/plain": [
       "array([[ 1,  2,  3,  4],\n",
       "       [ 5,  6,  7,  8],\n",
       "       [ 9, 10, 11, 12]])"
      ]
     },
     "execution_count": 29,
     "metadata": {},
     "output_type": "execute_result"
    }
   ],
   "source": [
    "np.resize(arr6, (3,4))"
   ]
  },
  {
   "cell_type": "code",
   "execution_count": 30,
   "id": "8ccffd7f-00a3-47ee-aaba-d030b2e855aa",
   "metadata": {},
   "outputs": [
    {
     "data": {
      "text/plain": [
       "array([[ 4,  5,  6,  7],\n",
       "       [ 8,  9, 10, 11],\n",
       "       [12, 13, 14, 15]])"
      ]
     },
     "execution_count": 30,
     "metadata": {},
     "output_type": "execute_result"
    }
   ],
   "source": [
    "arr7 = np.arange(4,16).reshape(3,4)\n",
    "arr7"
   ]
  },
  {
   "cell_type": "code",
   "execution_count": 31,
   "id": "5ead8ed9-ced2-4a80-aac9-250e4a3cc763",
   "metadata": {},
   "outputs": [
    {
     "data": {
      "text/plain": [
       "array([[ 4,  5,  6,  7],\n",
       "       [ 8,  9, 10, 11],\n",
       "       [12, 13, 14, 15],\n",
       "       [ 4,  5,  6,  7],\n",
       "       [ 8,  9, 10, 11]])"
      ]
     },
     "execution_count": 31,
     "metadata": {},
     "output_type": "execute_result"
    }
   ],
   "source": [
    "np.resize(arr7, (5,4))"
   ]
  },
  {
   "cell_type": "code",
   "execution_count": 32,
   "id": "569ab52a-3036-48a9-83cc-e84b361264b5",
   "metadata": {},
   "outputs": [
    {
     "data": {
      "text/plain": [
       "array([[1, 2, 3],\n",
       "       [4, 5, 6]])"
      ]
     },
     "execution_count": 32,
     "metadata": {},
     "output_type": "execute_result"
    }
   ],
   "source": [
    "arr8 = np.arange(1, 7).reshape(2,3)\n",
    "arr8"
   ]
  },
  {
   "cell_type": "code",
   "execution_count": 33,
   "id": "068e167b-c7a9-4467-ab5a-86cd45ceed65",
   "metadata": {},
   "outputs": [
    {
     "data": {
      "text/plain": [
       "array([[ 7,  8,  9],\n",
       "       [10, 11, 12]])"
      ]
     },
     "execution_count": 33,
     "metadata": {},
     "output_type": "execute_result"
    }
   ],
   "source": [
    "arr9 = np.arange(7, 13).reshape(2,3)\n",
    "arr9"
   ]
  },
  {
   "cell_type": "markdown",
   "id": "f47742e8-d025-4417-a826-396608a2d862",
   "metadata": {},
   "source": [
    "### CONCATENATE\n",
    "*  this function is used to two or more array by column or row,default is row\n",
    "*  to join array column wise need to provide axis =1\n",
    "*  to join two or more array dimensions of an array should be exaxtly same"
   ]
  },
  {
   "cell_type": "code",
   "execution_count": 34,
   "id": "c4c430b8-1d04-4857-a1ba-40713ca76b6a",
   "metadata": {},
   "outputs": [
    {
     "data": {
      "text/plain": [
       "array([[ 1,  2,  3],\n",
       "       [ 4,  5,  6],\n",
       "       [ 7,  8,  9],\n",
       "       [10, 11, 12]])"
      ]
     },
     "execution_count": 34,
     "metadata": {},
     "output_type": "execute_result"
    }
   ],
   "source": [
    "np.concatenate([arr8, arr9])"
   ]
  },
  {
   "cell_type": "code",
   "execution_count": 35,
   "id": "25cfc8f2-9d9f-42c0-b4de-2d87c90ea168",
   "metadata": {},
   "outputs": [
    {
     "data": {
      "text/plain": [
       "array([[ 1,  2,  3,  7,  8,  9],\n",
       "       [ 4,  5,  6, 10, 11, 12]])"
      ]
     },
     "execution_count": 35,
     "metadata": {},
     "output_type": "execute_result"
    }
   ],
   "source": [
    "np.concatenate([arr8, arr9],axis=1)"
   ]
  },
  {
   "cell_type": "markdown",
   "id": "71524106-d6ce-423e-8287-a7d26b5c986b",
   "metadata": {},
   "source": [
    "np.concatenate([arr8, arr9], axis=0)"
   ]
  },
  {
   "cell_type": "code",
   "execution_count": 36,
   "id": "548987e0-58f4-41fc-97ed-2c074a4df531",
   "metadata": {},
   "outputs": [
    {
     "data": {
      "text/plain": [
       "array([[13, 14],\n",
       "       [15, 16],\n",
       "       [17, 18]])"
      ]
     },
     "execution_count": 36,
     "metadata": {},
     "output_type": "execute_result"
    }
   ],
   "source": [
    "arr10 = np.arange(13, 19).reshape(3,2)\n",
    "arr10"
   ]
  },
  {
   "cell_type": "markdown",
   "id": "813836fc-5a06-43db-b45a-07efe3469fe0",
   "metadata": {},
   "source": [
    "#### hstack- Horizontal Stack\n",
    "*  used to stack the array in horizonatal manner-column join"
   ]
  },
  {
   "cell_type": "code",
   "execution_count": 37,
   "id": "b36e64dd-7b29-4c87-80e7-8176d39227ed",
   "metadata": {},
   "outputs": [
    {
     "data": {
      "text/plain": [
       "array([[ 1,  2,  3,  7,  8,  9],\n",
       "       [ 4,  5,  6, 10, 11, 12]])"
      ]
     },
     "execution_count": 37,
     "metadata": {},
     "output_type": "execute_result"
    }
   ],
   "source": [
    "np.hstack([arr8, arr9])"
   ]
  },
  {
   "cell_type": "markdown",
   "id": "ed976a96-c56c-4c36-b772-7d47a5126986",
   "metadata": {},
   "source": [
    "vstack - Verticle stack\n",
    "*  used to stack array in verticle manner - row join"
   ]
  },
  {
   "cell_type": "code",
   "execution_count": 38,
   "id": "45d9dae8-51cb-41d3-afc4-a8c88b47e74b",
   "metadata": {},
   "outputs": [
    {
     "data": {
      "text/plain": [
       "array([[ 1,  2,  3],\n",
       "       [ 4,  5,  6],\n",
       "       [ 7,  8,  9],\n",
       "       [10, 11, 12]])"
      ]
     },
     "execution_count": 38,
     "metadata": {},
     "output_type": "execute_result"
    }
   ],
   "source": [
    "np.vstack([arr8, arr9])"
   ]
  },
  {
   "cell_type": "markdown",
   "id": "3c4ef2d6-a6ab-46b1-bba5-5fa1426ad3f8",
   "metadata": {},
   "source": [
    "### repeat\n",
    "* use to duplicate elements in array"
   ]
  },
  {
   "cell_type": "code",
   "execution_count": 39,
   "id": "ed1e2d25-c7c6-4e15-abba-8ab2a559adfe",
   "metadata": {},
   "outputs": [
    {
     "data": {
      "text/plain": [
       "array([0, 1, 2])"
      ]
     },
     "execution_count": 39,
     "metadata": {},
     "output_type": "execute_result"
    }
   ],
   "source": [
    "arr11 = np.arange(3)\n",
    "arr11"
   ]
  },
  {
   "cell_type": "code",
   "execution_count": 40,
   "id": "0a40fd9f-a49d-4c34-a58a-2f83ce6531d2",
   "metadata": {},
   "outputs": [
    {
     "data": {
      "text/plain": [
       "array([0, 0, 0, 1, 1, 1, 2, 2, 2])"
      ]
     },
     "execution_count": 40,
     "metadata": {},
     "output_type": "execute_result"
    }
   ],
   "source": [
    "arr11.repeat(3)"
   ]
  },
  {
   "cell_type": "code",
   "execution_count": 41,
   "id": "d80540ea-bf91-4526-87f7-52bafd01a05e",
   "metadata": {},
   "outputs": [
    {
     "data": {
      "text/plain": [
       "array([0, 0, 0, 1, 1, 1, 1, 1, 2, 2, 2, 2, 2, 2])"
      ]
     },
     "execution_count": 41,
     "metadata": {},
     "output_type": "execute_result"
    }
   ],
   "source": [
    "arr11.repeat([3, 5, 6])"
   ]
  },
  {
   "cell_type": "markdown",
   "id": "5441620f-a912-49ea-82da-99af70ee440c",
   "metadata": {},
   "source": [
    "## Identity Matrix\n",
    "*  np.eye() used to create indentity matrix, where diagonal element became 1 and rest of the element will be 0"
   ]
  },
  {
   "cell_type": "code",
   "execution_count": 42,
   "id": "997d6431-7c8f-4b1a-8e6d-abfc769cae53",
   "metadata": {},
   "outputs": [
    {
     "data": {
      "text/plain": [
       "array([[1., 0., 0.],\n",
       "       [0., 1., 0.],\n",
       "       [0., 0., 1.]])"
      ]
     },
     "execution_count": 42,
     "metadata": {},
     "output_type": "execute_result"
    }
   ],
   "source": [
    "np.eye(3,3)"
   ]
  },
  {
   "cell_type": "code",
   "execution_count": 43,
   "id": "1e62d336-a6a4-40e4-acdb-1c614c9cf8de",
   "metadata": {},
   "outputs": [
    {
     "data": {
      "text/plain": [
       "array([[1., 0.],\n",
       "       [0., 1.]])"
      ]
     },
     "execution_count": 43,
     "metadata": {},
     "output_type": "execute_result"
    }
   ],
   "source": [
    "np.eye(2,2)"
   ]
  },
  {
   "cell_type": "code",
   "execution_count": 44,
   "id": "41111a07-8c1d-4027-a2b7-b487c39d106b",
   "metadata": {},
   "outputs": [
    {
     "data": {
      "text/plain": [
       "array([[1., 0., 0., 0.],\n",
       "       [0., 1., 0., 0.],\n",
       "       [0., 0., 1., 0.],\n",
       "       [0., 0., 0., 1.]])"
      ]
     },
     "execution_count": 44,
     "metadata": {},
     "output_type": "execute_result"
    }
   ],
   "source": [
    "np.eye(4,4)"
   ]
  },
  {
   "cell_type": "code",
   "execution_count": 45,
   "id": "0cb46117-10f6-42dd-a7cb-cd82e7cb0814",
   "metadata": {},
   "outputs": [
    {
     "data": {
      "text/plain": [
       "array([[0., 0., 0., 0., 1., 0., 0.],\n",
       "       [0., 0., 0., 0., 0., 1., 0.],\n",
       "       [0., 0., 0., 0., 0., 0., 1.]])"
      ]
     },
     "execution_count": 45,
     "metadata": {},
     "output_type": "execute_result"
    }
   ],
   "source": [
    "np.eye(3, 7, 4)"
   ]
  },
  {
   "cell_type": "code",
   "execution_count": 46,
   "id": "67bfe273-4324-4245-a915-1beef62a9560",
   "metadata": {},
   "outputs": [
    {
     "data": {
      "text/plain": [
       "array([[1., 1., 1., 1.],\n",
       "       [1., 1., 1., 1.],\n",
       "       [1., 1., 1., 1.]])"
      ]
     },
     "execution_count": 46,
     "metadata": {},
     "output_type": "execute_result"
    }
   ],
   "source": [
    "np.ones((3,4))"
   ]
  },
  {
   "cell_type": "code",
   "execution_count": 47,
   "id": "7bd95b3c-3f4d-4b05-9cfa-6faa57d664c8",
   "metadata": {},
   "outputs": [
    {
     "data": {
      "text/plain": [
       "array([[0., 0., 0., 0., 0., 0.],\n",
       "       [0., 0., 0., 0., 0., 0.],\n",
       "       [0., 0., 0., 0., 0., 0.]])"
      ]
     },
     "execution_count": 47,
     "metadata": {},
     "output_type": "execute_result"
    }
   ],
   "source": [
    "np.zeros((3,6))"
   ]
  },
  {
   "cell_type": "markdown",
   "id": "61d40763-c326-4d86-b056-e08fd76e373c",
   "metadata": {},
   "source": [
    "## Split\n",
    "*  Split function is used to split the numpy array into multiple arrays"
   ]
  },
  {
   "cell_type": "code",
   "execution_count": 48,
   "id": "19217516-dec1-43be-b87f-3e5cf4fe4c95",
   "metadata": {},
   "outputs": [
    {
     "data": {
      "text/plain": [
       "array([[ 1,  2,  3,  4,  5,  6,  7,  8],\n",
       "       [ 9, 10, 11, 12, 13, 14, 15, 16],\n",
       "       [17, 18, 19, 20, 21, 22, 23, 24]])"
      ]
     },
     "execution_count": 48,
     "metadata": {},
     "output_type": "execute_result"
    }
   ],
   "source": [
    "arr6"
   ]
  },
  {
   "cell_type": "code",
   "execution_count": 52,
   "id": "ecda1170-b452-4a81-950b-d9b51cfc431b",
   "metadata": {},
   "outputs": [
    {
     "data": {
      "text/plain": [
       "[array([[1, 2, 3, 4, 5, 6, 7, 8]]),\n",
       " array([[ 9, 10, 11, 12, 13, 14, 15, 16]]),\n",
       " array([[17, 18, 19, 20, 21, 22, 23, 24]])]"
      ]
     },
     "execution_count": 52,
     "metadata": {},
     "output_type": "execute_result"
    }
   ],
   "source": [
    "np.split(arr6, (1, 2))"
   ]
  },
  {
   "cell_type": "code",
   "execution_count": 53,
   "id": "39b8edb4-83c0-4375-a1c8-3b23885146bd",
   "metadata": {},
   "outputs": [],
   "source": [
    "arr12 = np.linspace(1, 100, 100, dtype=\"int\"). reshape(10,10)"
   ]
  },
  {
   "cell_type": "code",
   "execution_count": 54,
   "id": "c82208dc-bf53-4c88-a604-4eda028effd2",
   "metadata": {},
   "outputs": [
    {
     "data": {
      "text/plain": [
       "array([[  1,   2,   3,   4,   5,   6,   7,   8,   9,  10],\n",
       "       [ 11,  12,  13,  14,  15,  16,  17,  18,  19,  20],\n",
       "       [ 21,  22,  23,  24,  25,  26,  27,  28,  29,  30],\n",
       "       [ 31,  32,  33,  34,  35,  36,  37,  38,  39,  40],\n",
       "       [ 41,  42,  43,  44,  45,  46,  47,  48,  49,  50],\n",
       "       [ 51,  52,  53,  54,  55,  56,  57,  58,  59,  60],\n",
       "       [ 61,  62,  63,  64,  65,  66,  67,  68,  69,  70],\n",
       "       [ 71,  72,  73,  74,  75,  76,  77,  78,  79,  80],\n",
       "       [ 81,  82,  83,  84,  85,  86,  87,  88,  89,  90],\n",
       "       [ 91,  92,  93,  94,  95,  96,  97,  98,  99, 100]])"
      ]
     },
     "execution_count": 54,
     "metadata": {},
     "output_type": "execute_result"
    }
   ],
   "source": [
    "arr12"
   ]
  },
  {
   "cell_type": "code",
   "execution_count": 56,
   "id": "e129c4d6-2b4d-4d3d-9fb5-b5d62f9e8b4c",
   "metadata": {},
   "outputs": [
    {
     "data": {
      "text/plain": [
       "[array([[ 1,  2,  3,  4,  5,  6,  7,  8,  9, 10],\n",
       "        [11, 12, 13, 14, 15, 16, 17, 18, 19, 20],\n",
       "        [21, 22, 23, 24, 25, 26, 27, 28, 29, 30]]),\n",
       " array([[31, 32, 33, 34, 35, 36, 37, 38, 39, 40],\n",
       "        [41, 42, 43, 44, 45, 46, 47, 48, 49, 50],\n",
       "        [51, 52, 53, 54, 55, 56, 57, 58, 59, 60]]),\n",
       " array([[ 61,  62,  63,  64,  65,  66,  67,  68,  69,  70],\n",
       "        [ 71,  72,  73,  74,  75,  76,  77,  78,  79,  80],\n",
       "        [ 81,  82,  83,  84,  85,  86,  87,  88,  89,  90],\n",
       "        [ 91,  92,  93,  94,  95,  96,  97,  98,  99, 100]])]"
      ]
     },
     "execution_count": 56,
     "metadata": {},
     "output_type": "execute_result"
    }
   ],
   "source": [
    "np.split(arr12, [3, 6])"
   ]
  },
  {
   "cell_type": "code",
   "execution_count": 57,
   "id": "a96779e4-2c6c-431f-a5e7-ed2b5f9e5c85",
   "metadata": {},
   "outputs": [
    {
     "data": {
      "text/plain": [
       "[array([[ 1,  2,  3,  4,  5,  6,  7,  8,  9, 10],\n",
       "        [11, 12, 13, 14, 15, 16, 17, 18, 19, 20],\n",
       "        [21, 22, 23, 24, 25, 26, 27, 28, 29, 30]]),\n",
       " array([[ 31,  32,  33,  34,  35,  36,  37,  38,  39,  40],\n",
       "        [ 41,  42,  43,  44,  45,  46,  47,  48,  49,  50],\n",
       "        [ 51,  52,  53,  54,  55,  56,  57,  58,  59,  60],\n",
       "        [ 61,  62,  63,  64,  65,  66,  67,  68,  69,  70],\n",
       "        [ 71,  72,  73,  74,  75,  76,  77,  78,  79,  80],\n",
       "        [ 81,  82,  83,  84,  85,  86,  87,  88,  89,  90],\n",
       "        [ 91,  92,  93,  94,  95,  96,  97,  98,  99, 100]])]"
      ]
     },
     "execution_count": 57,
     "metadata": {},
     "output_type": "execute_result"
    }
   ],
   "source": [
    "np.split(arr12,[3])"
   ]
  },
  {
   "cell_type": "code",
   "execution_count": 58,
   "id": "6b23c444-f263-4913-b33d-84310901233f",
   "metadata": {},
   "outputs": [
    {
     "data": {
      "text/plain": [
       "[array([[ 1,  2,  3,  4,  5,  6,  7,  8,  9, 10],\n",
       "        [11, 12, 13, 14, 15, 16, 17, 18, 19, 20]]),\n",
       " array([[21, 22, 23, 24, 25, 26, 27, 28, 29, 30],\n",
       "        [31, 32, 33, 34, 35, 36, 37, 38, 39, 40]]),\n",
       " array([[41, 42, 43, 44, 45, 46, 47, 48, 49, 50],\n",
       "        [51, 52, 53, 54, 55, 56, 57, 58, 59, 60]]),\n",
       " array([[61, 62, 63, 64, 65, 66, 67, 68, 69, 70],\n",
       "        [71, 72, 73, 74, 75, 76, 77, 78, 79, 80]]),\n",
       " array([[ 81,  82,  83,  84,  85,  86,  87,  88,  89,  90],\n",
       "        [ 91,  92,  93,  94,  95,  96,  97,  98,  99, 100]])]"
      ]
     },
     "execution_count": 58,
     "metadata": {},
     "output_type": "execute_result"
    }
   ],
   "source": [
    "np.split(arr12, [2,4,6,8])"
   ]
  },
  {
   "cell_type": "code",
   "execution_count": 59,
   "id": "560d7af7-2155-4356-9fbe-9b1e636e7349",
   "metadata": {},
   "outputs": [
    {
     "data": {
      "text/plain": [
       "[array([[ 1,  2,  3,  4],\n",
       "        [11, 12, 13, 14],\n",
       "        [21, 22, 23, 24],\n",
       "        [31, 32, 33, 34],\n",
       "        [41, 42, 43, 44],\n",
       "        [51, 52, 53, 54],\n",
       "        [61, 62, 63, 64],\n",
       "        [71, 72, 73, 74],\n",
       "        [81, 82, 83, 84],\n",
       "        [91, 92, 93, 94]]),\n",
       " array([[ 5,  6,  7],\n",
       "        [15, 16, 17],\n",
       "        [25, 26, 27],\n",
       "        [35, 36, 37],\n",
       "        [45, 46, 47],\n",
       "        [55, 56, 57],\n",
       "        [65, 66, 67],\n",
       "        [75, 76, 77],\n",
       "        [85, 86, 87],\n",
       "        [95, 96, 97]]),\n",
       " array([[  8,   9,  10],\n",
       "        [ 18,  19,  20],\n",
       "        [ 28,  29,  30],\n",
       "        [ 38,  39,  40],\n",
       "        [ 48,  49,  50],\n",
       "        [ 58,  59,  60],\n",
       "        [ 68,  69,  70],\n",
       "        [ 78,  79,  80],\n",
       "        [ 88,  89,  90],\n",
       "        [ 98,  99, 100]])]"
      ]
     },
     "execution_count": 59,
     "metadata": {},
     "output_type": "execute_result"
    }
   ],
   "source": [
    "np.split(arr12, [4, 7], axis=1)"
   ]
  },
  {
   "cell_type": "code",
   "execution_count": 59,
   "id": "505679e1-d935-4783-a9e6-e67991dcdc26",
   "metadata": {},
   "outputs": [],
   "source": [
    "sp1, sp2, sp3 = np.split(arr12, [4, 7], axis=1)"
   ]
  },
  {
   "cell_type": "code",
   "execution_count": 60,
   "id": "86ea5239-0824-4806-a5d7-a61de4baabd0",
   "metadata": {},
   "outputs": [
    {
     "data": {
      "text/plain": [
       "array([[ 1,  2,  3,  4],\n",
       "       [11, 12, 13, 14],\n",
       "       [21, 22, 23, 24],\n",
       "       [31, 32, 33, 34],\n",
       "       [41, 42, 43, 44],\n",
       "       [51, 52, 53, 54],\n",
       "       [61, 62, 63, 64],\n",
       "       [71, 72, 73, 74],\n",
       "       [81, 82, 83, 84],\n",
       "       [91, 92, 93, 94]])"
      ]
     },
     "execution_count": 60,
     "metadata": {},
     "output_type": "execute_result"
    }
   ],
   "source": [
    "sp1"
   ]
  },
  {
   "cell_type": "code",
   "execution_count": 61,
   "id": "78e767dc-c93d-4bfb-82da-8e52212e5870",
   "metadata": {},
   "outputs": [
    {
     "data": {
      "text/plain": [
       "array([[ 5,  6,  7],\n",
       "       [15, 16, 17],\n",
       "       [25, 26, 27],\n",
       "       [35, 36, 37],\n",
       "       [45, 46, 47],\n",
       "       [55, 56, 57],\n",
       "       [65, 66, 67],\n",
       "       [75, 76, 77],\n",
       "       [85, 86, 87],\n",
       "       [95, 96, 97]])"
      ]
     },
     "execution_count": 61,
     "metadata": {},
     "output_type": "execute_result"
    }
   ],
   "source": [
    "sp2"
   ]
  },
  {
   "cell_type": "code",
   "execution_count": 62,
   "id": "0929bbda-7084-4331-a734-e1cb08744492",
   "metadata": {},
   "outputs": [
    {
     "data": {
      "text/plain": [
       "array([[  8,   9,  10],\n",
       "       [ 18,  19,  20],\n",
       "       [ 28,  29,  30],\n",
       "       [ 38,  39,  40],\n",
       "       [ 48,  49,  50],\n",
       "       [ 58,  59,  60],\n",
       "       [ 68,  69,  70],\n",
       "       [ 78,  79,  80],\n",
       "       [ 88,  89,  90],\n",
       "       [ 98,  99, 100]])"
      ]
     },
     "execution_count": 62,
     "metadata": {},
     "output_type": "execute_result"
    }
   ],
   "source": [
    "sp3"
   ]
  },
  {
   "cell_type": "code",
   "execution_count": null,
   "id": "51c4c49a-5733-435d-9e02-a16ecb426344",
   "metadata": {},
   "outputs": [],
   "source": []
  }
 ],
 "metadata": {
  "kernelspec": {
   "display_name": "Python 3 (ipykernel)",
   "language": "python",
   "name": "python3"
  },
  "language_info": {
   "codemirror_mode": {
    "name": "ipython",
    "version": 3
   },
   "file_extension": ".py",
   "mimetype": "text/x-python",
   "name": "python",
   "nbconvert_exporter": "python",
   "pygments_lexer": "ipython3",
   "version": "3.11.5"
  }
 },
 "nbformat": 4,
 "nbformat_minor": 5
}
