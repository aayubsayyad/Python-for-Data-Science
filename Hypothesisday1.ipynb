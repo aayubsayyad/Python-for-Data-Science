{
 "cells": [
  {
   "cell_type": "code",
   "execution_count": 7,
   "id": "56e47f5c-c1e7-45e2-a10c-f4bbd90c8050",
   "metadata": {},
   "outputs": [
    {
     "ename": "SyntaxError",
     "evalue": "invalid syntax (2171638234.py, line 6)",
     "output_type": "error",
     "traceback": [
      "\u001b[1;36m  Cell \u001b[1;32mIn[7], line 6\u001b[1;36m\u001b[0m\n\u001b[1;33m    fromscipy.stats import shapiro, ttest_ind, spearmanr, chi2_contingency\u001b[0m\n\u001b[1;37m                    ^\u001b[0m\n\u001b[1;31mSyntaxError\u001b[0m\u001b[1;31m:\u001b[0m invalid syntax\n"
     ]
    }
   ],
   "source": []
  },
  {
   "cell_type": "code",
   "execution_count": 2,
   "id": "9e084d9f-f63f-41bd-8257-024be70d7f37",
   "metadata": {},
   "outputs": [
    {
     "name": "stdout",
     "output_type": "stream",
     "text": [
      "Note: you may need to restart the kernel to use updated packages.\n"
     ]
    },
    {
     "name": "stderr",
     "output_type": "stream",
     "text": [
      "\n",
      "[notice] A new release of pip is available: 23.2.1 -> 23.3.2\n",
      "[notice] To update, run: python.exe -m pip install --upgrade pip\n"
     ]
    },
    {
     "name": "stdout",
     "output_type": "stream",
     "text": [
      "Requirement already satisfied: scikit-learn in c:\\users\\aayub sayyad\\appdata\\local\\programs\\python\\python311\\lib\\site-packages (1.3.2)\n",
      "Requirement already satisfied: numpy<2.0,>=1.17.3 in c:\\users\\aayub sayyad\\appdata\\local\\programs\\python\\python311\\lib\\site-packages (from scikit-learn) (1.26.2)\n",
      "Requirement already satisfied: scipy>=1.5.0 in c:\\users\\aayub sayyad\\appdata\\local\\programs\\python\\python311\\lib\\site-packages (from scikit-learn) (1.11.4)\n",
      "Requirement already satisfied: joblib>=1.1.1 in c:\\users\\aayub sayyad\\appdata\\local\\programs\\python\\python311\\lib\\site-packages (from scikit-learn) (1.3.2)\n",
      "Requirement already satisfied: threadpoolctl>=2.0.0 in c:\\users\\aayub sayyad\\appdata\\local\\programs\\python\\python311\\lib\\site-packages (from scikit-learn) (3.2.0)\n"
     ]
    }
   ],
   "source": [
    "pip install scikit-learn"
   ]
  },
  {
   "cell_type": "code",
   "execution_count": 3,
   "id": "b014b4d0-54e0-48ad-9f84-eb06c9e909fd",
   "metadata": {},
   "outputs": [],
   "source": [
    "import numpy as np\n",
    "import pandas as pd\n",
    "import matplotlib.pyplot as plt\n",
    "import seaborn as sns\n",
    "import scipy as sp \n",
    "from scipy.stats import shapiro, ttest_ind, spearmanr, chi2_contingency\n",
    "from sklearn.datasets import load_wine, make_classification\n",
    "import warnings\n",
    "warnings.filterwarnings(\"ignore\")"
   ]
  },
  {
   "cell_type": "code",
   "execution_count": 4,
   "id": "e8feca7a-27fb-442e-ba14-b4cd533b3767",
   "metadata": {},
   "outputs": [],
   "source": [
    "wine = load_wine()"
   ]
  },
  {
   "cell_type": "code",
   "execution_count": 5,
   "id": "bab53fbe-22fa-4e44-9f73-91db59f8315b",
   "metadata": {},
   "outputs": [
    {
     "data": {
      "text/plain": [
       "['DESCR', 'data', 'feature_names', 'frame', 'target', 'target_names']"
      ]
     },
     "execution_count": 5,
     "metadata": {},
     "output_type": "execute_result"
    }
   ],
   "source": [
    "dir(wine)"
   ]
  },
  {
   "cell_type": "code",
   "execution_count": 6,
   "id": "7d87abc5-9941-4c48-9b71-626e7f02f5c7",
   "metadata": {},
   "outputs": [],
   "source": [
    "wine_df = pd.DataFrame(wine.data, columns=wine.feature_names)\n",
    "wine_df[\"target\"] = wine.target"
   ]
  },
  {
   "cell_type": "code",
   "execution_count": 7,
   "id": "751c434c-e241-4a62-a03e-de528986a816",
   "metadata": {},
   "outputs": [],
   "source": [
    "data, target = make_classification(n_samples=400, n_features=5, n_classes=2)"
   ]
  },
  {
   "cell_type": "code",
   "execution_count": 8,
   "id": "2c432aaa-2379-4016-b664-4faf2831eebb",
   "metadata": {},
   "outputs": [],
   "source": [
    "df =pd.DataFrame(data, columns=[f\"feature{i}\" for i in range(1, 6)])\n",
    "df[\"target\"] = target"
   ]
  },
  {
   "cell_type": "code",
   "execution_count": 10,
   "id": "1b05c32e-a2b0-42e7-a275-b55a92690f72",
   "metadata": {},
   "outputs": [],
   "source": [
    "wine = wine_df.copy()"
   ]
  },
  {
   "cell_type": "code",
   "execution_count": 11,
   "id": "a9cab3a8-718c-4918-827d-9349ee11b051",
   "metadata": {},
   "outputs": [
    {
     "data": {
      "text/html": [
       "<div>\n",
       "<style scoped>\n",
       "    .dataframe tbody tr th:only-of-type {\n",
       "        vertical-align: middle;\n",
       "    }\n",
       "\n",
       "    .dataframe tbody tr th {\n",
       "        vertical-align: top;\n",
       "    }\n",
       "\n",
       "    .dataframe thead th {\n",
       "        text-align: right;\n",
       "    }\n",
       "</style>\n",
       "<table border=\"1\" class=\"dataframe\">\n",
       "  <thead>\n",
       "    <tr style=\"text-align: right;\">\n",
       "      <th></th>\n",
       "      <th>alcohol</th>\n",
       "      <th>malic_acid</th>\n",
       "      <th>ash</th>\n",
       "      <th>alcalinity_of_ash</th>\n",
       "      <th>magnesium</th>\n",
       "      <th>total_phenols</th>\n",
       "      <th>flavanoids</th>\n",
       "      <th>nonflavanoid_phenols</th>\n",
       "      <th>proanthocyanins</th>\n",
       "      <th>color_intensity</th>\n",
       "      <th>hue</th>\n",
       "      <th>od280/od315_of_diluted_wines</th>\n",
       "      <th>proline</th>\n",
       "      <th>target</th>\n",
       "    </tr>\n",
       "  </thead>\n",
       "  <tbody>\n",
       "    <tr>\n",
       "      <th>0</th>\n",
       "      <td>14.23</td>\n",
       "      <td>1.71</td>\n",
       "      <td>2.43</td>\n",
       "      <td>15.6</td>\n",
       "      <td>127.0</td>\n",
       "      <td>2.80</td>\n",
       "      <td>3.06</td>\n",
       "      <td>0.28</td>\n",
       "      <td>2.29</td>\n",
       "      <td>5.64</td>\n",
       "      <td>1.04</td>\n",
       "      <td>3.92</td>\n",
       "      <td>1065.0</td>\n",
       "      <td>0</td>\n",
       "    </tr>\n",
       "    <tr>\n",
       "      <th>1</th>\n",
       "      <td>13.20</td>\n",
       "      <td>1.78</td>\n",
       "      <td>2.14</td>\n",
       "      <td>11.2</td>\n",
       "      <td>100.0</td>\n",
       "      <td>2.65</td>\n",
       "      <td>2.76</td>\n",
       "      <td>0.26</td>\n",
       "      <td>1.28</td>\n",
       "      <td>4.38</td>\n",
       "      <td>1.05</td>\n",
       "      <td>3.40</td>\n",
       "      <td>1050.0</td>\n",
       "      <td>0</td>\n",
       "    </tr>\n",
       "    <tr>\n",
       "      <th>2</th>\n",
       "      <td>13.16</td>\n",
       "      <td>2.36</td>\n",
       "      <td>2.67</td>\n",
       "      <td>18.6</td>\n",
       "      <td>101.0</td>\n",
       "      <td>2.80</td>\n",
       "      <td>3.24</td>\n",
       "      <td>0.30</td>\n",
       "      <td>2.81</td>\n",
       "      <td>5.68</td>\n",
       "      <td>1.03</td>\n",
       "      <td>3.17</td>\n",
       "      <td>1185.0</td>\n",
       "      <td>0</td>\n",
       "    </tr>\n",
       "    <tr>\n",
       "      <th>3</th>\n",
       "      <td>14.37</td>\n",
       "      <td>1.95</td>\n",
       "      <td>2.50</td>\n",
       "      <td>16.8</td>\n",
       "      <td>113.0</td>\n",
       "      <td>3.85</td>\n",
       "      <td>3.49</td>\n",
       "      <td>0.24</td>\n",
       "      <td>2.18</td>\n",
       "      <td>7.80</td>\n",
       "      <td>0.86</td>\n",
       "      <td>3.45</td>\n",
       "      <td>1480.0</td>\n",
       "      <td>0</td>\n",
       "    </tr>\n",
       "    <tr>\n",
       "      <th>4</th>\n",
       "      <td>13.24</td>\n",
       "      <td>2.59</td>\n",
       "      <td>2.87</td>\n",
       "      <td>21.0</td>\n",
       "      <td>118.0</td>\n",
       "      <td>2.80</td>\n",
       "      <td>2.69</td>\n",
       "      <td>0.39</td>\n",
       "      <td>1.82</td>\n",
       "      <td>4.32</td>\n",
       "      <td>1.04</td>\n",
       "      <td>2.93</td>\n",
       "      <td>735.0</td>\n",
       "      <td>0</td>\n",
       "    </tr>\n",
       "  </tbody>\n",
       "</table>\n",
       "</div>"
      ],
      "text/plain": [
       "   alcohol  malic_acid   ash  alcalinity_of_ash  magnesium  total_phenols  \\\n",
       "0    14.23        1.71  2.43               15.6      127.0           2.80   \n",
       "1    13.20        1.78  2.14               11.2      100.0           2.65   \n",
       "2    13.16        2.36  2.67               18.6      101.0           2.80   \n",
       "3    14.37        1.95  2.50               16.8      113.0           3.85   \n",
       "4    13.24        2.59  2.87               21.0      118.0           2.80   \n",
       "\n",
       "   flavanoids  nonflavanoid_phenols  proanthocyanins  color_intensity   hue  \\\n",
       "0        3.06                  0.28             2.29             5.64  1.04   \n",
       "1        2.76                  0.26             1.28             4.38  1.05   \n",
       "2        3.24                  0.30             2.81             5.68  1.03   \n",
       "3        3.49                  0.24             2.18             7.80  0.86   \n",
       "4        2.69                  0.39             1.82             4.32  1.04   \n",
       "\n",
       "   od280/od315_of_diluted_wines  proline  target  \n",
       "0                          3.92   1065.0       0  \n",
       "1                          3.40   1050.0       0  \n",
       "2                          3.17   1185.0       0  \n",
       "3                          3.45   1480.0       0  \n",
       "4                          2.93    735.0       0  "
      ]
     },
     "execution_count": 11,
     "metadata": {},
     "output_type": "execute_result"
    }
   ],
   "source": [
    "wine.head()"
   ]
  },
  {
   "cell_type": "code",
   "execution_count": 12,
   "id": "bc1330d1-6e71-46c2-8611-0d01ade50809",
   "metadata": {},
   "outputs": [
    {
     "data": {
      "text/html": [
       "<div>\n",
       "<style scoped>\n",
       "    .dataframe tbody tr th:only-of-type {\n",
       "        vertical-align: middle;\n",
       "    }\n",
       "\n",
       "    .dataframe tbody tr th {\n",
       "        vertical-align: top;\n",
       "    }\n",
       "\n",
       "    .dataframe thead th {\n",
       "        text-align: right;\n",
       "    }\n",
       "</style>\n",
       "<table border=\"1\" class=\"dataframe\">\n",
       "  <thead>\n",
       "    <tr style=\"text-align: right;\">\n",
       "      <th></th>\n",
       "      <th>feature1</th>\n",
       "      <th>feature2</th>\n",
       "      <th>feature3</th>\n",
       "      <th>feature4</th>\n",
       "      <th>feature5</th>\n",
       "      <th>target</th>\n",
       "    </tr>\n",
       "  </thead>\n",
       "  <tbody>\n",
       "    <tr>\n",
       "      <th>0</th>\n",
       "      <td>-1.701905</td>\n",
       "      <td>-2.025044</td>\n",
       "      <td>-0.618761</td>\n",
       "      <td>0.640950</td>\n",
       "      <td>-1.349763</td>\n",
       "      <td>0</td>\n",
       "    </tr>\n",
       "    <tr>\n",
       "      <th>1</th>\n",
       "      <td>1.843755</td>\n",
       "      <td>2.080644</td>\n",
       "      <td>0.513941</td>\n",
       "      <td>0.238285</td>\n",
       "      <td>1.363847</td>\n",
       "      <td>1</td>\n",
       "    </tr>\n",
       "    <tr>\n",
       "      <th>2</th>\n",
       "      <td>-1.334561</td>\n",
       "      <td>-0.614484</td>\n",
       "      <td>0.859904</td>\n",
       "      <td>1.080704</td>\n",
       "      <td>-0.211962</td>\n",
       "      <td>0</td>\n",
       "    </tr>\n",
       "    <tr>\n",
       "      <th>3</th>\n",
       "      <td>0.912601</td>\n",
       "      <td>0.135665</td>\n",
       "      <td>-0.981180</td>\n",
       "      <td>-0.998123</td>\n",
       "      <td>-0.102466</td>\n",
       "      <td>1</td>\n",
       "    </tr>\n",
       "    <tr>\n",
       "      <th>4</th>\n",
       "      <td>-0.871201</td>\n",
       "      <td>-1.477504</td>\n",
       "      <td>-0.925949</td>\n",
       "      <td>0.701274</td>\n",
       "      <td>-1.074308</td>\n",
       "      <td>0</td>\n",
       "    </tr>\n",
       "  </tbody>\n",
       "</table>\n",
       "</div>"
      ],
      "text/plain": [
       "   feature1  feature2  feature3  feature4  feature5  target\n",
       "0 -1.701905 -2.025044 -0.618761  0.640950 -1.349763       0\n",
       "1  1.843755  2.080644  0.513941  0.238285  1.363847       1\n",
       "2 -1.334561 -0.614484  0.859904  1.080704 -0.211962       0\n",
       "3  0.912601  0.135665 -0.981180 -0.998123 -0.102466       1\n",
       "4 -0.871201 -1.477504 -0.925949  0.701274 -1.074308       0"
      ]
     },
     "execution_count": 12,
     "metadata": {},
     "output_type": "execute_result"
    }
   ],
   "source": [
    "df.head()"
   ]
  },
  {
   "cell_type": "code",
   "execution_count": 13,
   "id": "1bd8a2dd-c681-4e70-a1bd-d5f09982c106",
   "metadata": {},
   "outputs": [
    {
     "data": {
      "image/png": "[encoded data removed]",
      "text/plain": [
       "<Figure size 600x400 with 1 Axes>"
      ]
     },
     "metadata": {},
     "output_type": "display_data"
    }
   ],
   "source": [
    "plt.figure(figsize=(6,4))\n",
    "plt.title(\"Alcohol column distribution\")\n",
    "sns.histplot(wine[\"alcohol\"], kde =True, alpha =0.7)      # kde = density instrument\n",
    "plt.show()"
   ]
  },
  {
   "cell_type": "code",
   "execution_count": 14,
   "id": "30b802a0-6eec-4e30-af52-bf2c17f9d779",
   "metadata": {},
   "outputs": [
    {
     "name": "stdout",
     "output_type": "stream",
     "text": [
      "shapiro statistical Value :  0.981804609298706\n",
      "shapiro p_value: 0.020050711929798126\n",
      "Data is not normally distributes (Rejecting H0)\n"
     ]
    }
   ],
   "source": [
    "# h0 -> data is normally distributed\n",
    "# ha -> data is not normally distributed\n",
    "\n",
    "# checking whether to accept the null hyphothesis or reject it.\n",
    "sh_stat, sh_p = shapiro(wine[\"alcohol\"])\n",
    "\n",
    "print(\"shapiro statistical Value : \", sh_stat)\n",
    "print(\"shapiro p_value:\", sh_p)\n",
    "\n",
    "alpha = 0.05\n",
    "if sh_p > alpha:\n",
    "    print(\"Data is normally distributed  (Acepting H0)\")\n",
    "else:\n",
    "    print(\"Data is not normally distributes (Rejecting H0)\")"
   ]
  },
  {
   "cell_type": "code",
   "execution_count": 15,
   "id": "9e595c10-d5c7-4e18-9773-63dc7e142333",
   "metadata": {},
   "outputs": [
    {
     "data": {
      "image/png": "[encoded data removed]",
      "text/plain": [
       "<Figure size 600x400 with 1 Axes>"
      ]
     },
     "metadata": {},
     "output_type": "display_data"
    }
   ],
   "source": [
    "\n",
    "plt.figure(figsize=(6,4))\n",
    "plt.title(\"Feature1 column distribution\")\n",
    "sns.histplot(df[\"feature1\"], kde =True, alpha =0.7)\n",
    "plt.show()"
   ]
  },
  {
   "cell_type": "code",
   "execution_count": 17,
   "id": "d9578377-0cf1-4ab4-9fdb-10de0c66a0e2",
   "metadata": {},
   "outputs": [
    {
     "data": {
      "text/plain": [
       "Index(['alcohol', 'malic_acid', 'ash', 'alcalinity_of_ash', 'magnesium',\n",
       "       'total_phenols', 'flavanoids', 'nonflavanoid_phenols',\n",
       "       'proanthocyanins', 'color_intensity', 'hue',\n",
       "       'od280/od315_of_diluted_wines', 'proline', 'target'],\n",
       "      dtype='object')"
      ]
     },
     "execution_count": 17,
     "metadata": {},
     "output_type": "execute_result"
    }
   ],
   "source": [
    "wine.columns"
   ]
  },
  {
   "cell_type": "code",
   "execution_count": 18,
   "id": "6dea0b29-2a71-44f8-8f08-374646a9b891",
   "metadata": {},
   "outputs": [
    {
     "data": {
      "image/png": "[encoded data removed]",
      "text/plain": [
       "<Figure size 600x400 with 1 Axes>"
      ]
     },
     "metadata": {},
     "output_type": "display_data"
    }
   ],
   "source": [
    "sample = np.random.normal(size = 400)\n",
    "plt.figure(figsize=(6,4))\n",
    "plt.title(\"Feature1 column distribution\")\n",
    "sns.histplot(sample, kde =True, alpha =0.7)\n",
    "plt.show()"
   ]
  },
  {
   "cell_type": "code",
   "execution_count": 19,
   "id": "4bc0dab5-cd11-4d3b-93c1-8de33786cab4",
   "metadata": {},
   "outputs": [
    {
     "name": "stdout",
     "output_type": "stream",
     "text": [
      "shapiro statistical Value : 0.99713\n",
      "shapiro p_value: 0.71271\n",
      "Data is normally distributed  (Acepting H0)\n"
     ]
    }
   ],
   "source": [
    "# h0 -> data is normally distributed\n",
    "# ha -> data is not normally distributed\n",
    "\n",
    "# checking whether to accept the null hyphothesis or reject it.\n",
    "sh_stat, sh_p = shapiro(sample)\n",
    "\n",
    "print(\"shapiro statistical Value : %.5f\" %sh_stat)\n",
    "print(\"shapiro p_value: %.5f\" %sh_p)\n",
    "\n",
    "alpha = 0.05\n",
    "if sh_p > alpha:\n",
    "    print(\"Data is normally distributed  (Acepting H0)\")\n",
    "else:\n",
    "    print(\"Data is not normally distributes (Rejecting H0)\")"
   ]
  },
  {
   "cell_type": "code",
   "execution_count": 20,
   "id": "67f83067-8863-47f7-b10a-9f967c466304",
   "metadata": {},
   "outputs": [
    {
     "data": {
      "image/png": "[encoded data removed]",
      "text/plain": [
       "<Figure size 640x480 with 1 Axes>"
      ]
     },
     "metadata": {},
     "output_type": "display_data"
    }
   ],
   "source": [
    "plt.title(\"feature1 column Distribution\")\n",
    "sns.scatterplot(x=wine[\"total_phenols\"],y=wine[\"malic_acid\"], alpha=0.7)\n",
    "plt.show()"
   ]
  },
  {
   "cell_type": "code",
   "execution_count": 21,
   "id": "60354992-9cb4-4b76-95b4-4f52ccd1f0f7",
   "metadata": {},
   "outputs": [
    {
     "name": "stdout",
     "output_type": "stream",
     "text": [
      "spearaman statistical value : -0.28022\n",
      "spearman p_value : 0.00015\n",
      "total_phenol and malic acid  are not independent (Rejecting H0)\n"
     ]
    }
   ],
   "source": [
    "# h0 = total_phenol and malic acid are independent\n",
    "# Ha = total phenol and malic acid are not independent\n",
    "\n",
    "# checking whethere to accept or reject the null hyphthesis\n",
    "# spearmenr\n",
    "sp_stats, sp_p = spearmanr(wine[\"total_phenols\"], wine[\"malic_acid\"])\n",
    "\n",
    "print(\"spearaman statistical value : %.5f\" %sp_stats)\n",
    "print(\"spearman p_value : %.5f\" %sp_p)\n",
    "\n",
    "alpha = 0.05\n",
    "if sp_p > alpha:\n",
    "    print(\"total_phenol and malic acid are independent (Acepting H0)\")\n",
    "else:\n",
    "    print(\"total_phenol and malic acid  are not independent (Rejecting H0)\")"
   ]
  },
  {
   "cell_type": "code",
   "execution_count": 22,
   "id": "25cf65b2-a73f-4964-adbd-121fa20f026b",
   "metadata": {},
   "outputs": [
    {
     "data": {
      "text/html": [
       "<div>\n",
       "<style scoped>\n",
       "    .dataframe tbody tr th:only-of-type {\n",
       "        vertical-align: middle;\n",
       "    }\n",
       "\n",
       "    .dataframe tbody tr th {\n",
       "        vertical-align: top;\n",
       "    }\n",
       "\n",
       "    .dataframe thead th {\n",
       "        text-align: right;\n",
       "    }\n",
       "</style>\n",
       "<table border=\"1\" class=\"dataframe\">\n",
       "  <thead>\n",
       "    <tr style=\"text-align: right;\">\n",
       "      <th></th>\n",
       "      <th>feature1</th>\n",
       "      <th>feature2</th>\n",
       "      <th>feature3</th>\n",
       "      <th>feature4</th>\n",
       "      <th>feature5</th>\n",
       "      <th>target</th>\n",
       "    </tr>\n",
       "  </thead>\n",
       "  <tbody>\n",
       "    <tr>\n",
       "      <th>0</th>\n",
       "      <td>-1.701905</td>\n",
       "      <td>-2.025044</td>\n",
       "      <td>-0.618761</td>\n",
       "      <td>0.640950</td>\n",
       "      <td>-1.349763</td>\n",
       "      <td>0</td>\n",
       "    </tr>\n",
       "    <tr>\n",
       "      <th>1</th>\n",
       "      <td>1.843755</td>\n",
       "      <td>2.080644</td>\n",
       "      <td>0.513941</td>\n",
       "      <td>0.238285</td>\n",
       "      <td>1.363847</td>\n",
       "      <td>1</td>\n",
       "    </tr>\n",
       "    <tr>\n",
       "      <th>2</th>\n",
       "      <td>-1.334561</td>\n",
       "      <td>-0.614484</td>\n",
       "      <td>0.859904</td>\n",
       "      <td>1.080704</td>\n",
       "      <td>-0.211962</td>\n",
       "      <td>0</td>\n",
       "    </tr>\n",
       "    <tr>\n",
       "      <th>3</th>\n",
       "      <td>0.912601</td>\n",
       "      <td>0.135665</td>\n",
       "      <td>-0.981180</td>\n",
       "      <td>-0.998123</td>\n",
       "      <td>-0.102466</td>\n",
       "      <td>1</td>\n",
       "    </tr>\n",
       "    <tr>\n",
       "      <th>4</th>\n",
       "      <td>-0.871201</td>\n",
       "      <td>-1.477504</td>\n",
       "      <td>-0.925949</td>\n",
       "      <td>0.701274</td>\n",
       "      <td>-1.074308</td>\n",
       "      <td>0</td>\n",
       "    </tr>\n",
       "  </tbody>\n",
       "</table>\n",
       "</div>"
      ],
      "text/plain": [
       "   feature1  feature2  feature3  feature4  feature5  target\n",
       "0 -1.701905 -2.025044 -0.618761  0.640950 -1.349763       0\n",
       "1  1.843755  2.080644  0.513941  0.238285  1.363847       1\n",
       "2 -1.334561 -0.614484  0.859904  1.080704 -0.211962       0\n",
       "3  0.912601  0.135665 -0.981180 -0.998123 -0.102466       1\n",
       "4 -0.871201 -1.477504 -0.925949  0.701274 -1.074308       0"
      ]
     },
     "execution_count": 22,
     "metadata": {},
     "output_type": "execute_result"
    }
   ],
   "source": [
    "df.head()"
   ]
  },
  {
   "cell_type": "code",
   "execution_count": 24,
   "id": "ef91a4a3-43a7-4520-9cbf-741e34afadda",
   "metadata": {},
   "outputs": [
    {
     "data": {
      "image/png": "[encoded data removed]",
      "text/plain": [
       "<Figure size 640x480 with 1 Axes>"
      ]
     },
     "metadata": {},
     "output_type": "display_data"
    }
   ],
   "source": [
    "plt.title(\"feature1 vs feature2\")\n",
    "sns.scatterplot(x=df[\"feature1\"],y=df[\"feature2\"], alpha=0.7)\n",
    "plt.show()"
   ]
  },
  {
   "cell_type": "code",
   "execution_count": 25,
   "id": "441a9c9b-9530-4708-b4dd-a6b16b20f6b8",
   "metadata": {},
   "outputs": [
    {
     "name": "stdout",
     "output_type": "stream",
     "text": [
      "spearaman statistical value : 0.74077\n",
      "spearman p_value : 0.00000\n",
      "feature1 and feature2 are independent (Rejecting H0)\n"
     ]
    }
   ],
   "source": [
    "# h0 = feature1 and feature2 are dependent\n",
    "# Ha = feature1 and feature2 are  independent\n",
    "\n",
    "# checking whethere to accept or reject the null hyphthesis\n",
    "# spearmenr\n",
    "sp_stats, sp_p = spearmanr(df[\"feature1\"], df[\"feature2\"])\n",
    "\n",
    "print(\"spearaman statistical value : %.5f\" %sp_stats)\n",
    "print(\"spearman p_value : %.5f\" %sp_p)\n",
    "\n",
    "alpha = 0.05\n",
    "if sp_p > alpha:\n",
    "    print(\"feature1 and feature2 are dependent (Acepting H0)\")\n",
    "else:\n",
    "    print(\"feature1 and feature2 are independent (Rejecting H0)\")"
   ]
  },
  {
   "cell_type": "code",
   "execution_count": 26,
   "id": "2b63ddd7-86ce-4543-b5b2-c91c32f7d2ad",
   "metadata": {},
   "outputs": [
    {
     "data": {
      "text/plain": [
       "0      C\n",
       "1      B\n",
       "2      D\n",
       "3      C\n",
       "4      B\n",
       "      ..\n",
       "173    A\n",
       "174    B\n",
       "175    B\n",
       "176    B\n",
       "177    B\n",
       "Name: proanthocyanins, Length: 178, dtype: category\n",
       "Categories (4, object): ['A' < 'B' < 'C' < 'D']"
      ]
     },
     "execution_count": 26,
     "metadata": {},
     "output_type": "execute_result"
    }
   ],
   "source": [
    "cat = pd.cut(wine[\"proanthocyanins\"], bins = 4, labels=[\"A\", \"B\", \"C\", \"D\"])\n",
    "cat"
   ]
  },
  {
   "cell_type": "code",
   "execution_count": 27,
   "id": "1c15f0f5-1d8f-4a89-8db1-56bfd6e22e56",
   "metadata": {},
   "outputs": [
    {
     "data": {
      "text/html": [
       "<div>\n",
       "<style scoped>\n",
       "    .dataframe tbody tr th:only-of-type {\n",
       "        vertical-align: middle;\n",
       "    }\n",
       "\n",
       "    .dataframe tbody tr th {\n",
       "        vertical-align: top;\n",
       "    }\n",
       "\n",
       "    .dataframe thead th {\n",
       "        text-align: right;\n",
       "    }\n",
       "</style>\n",
       "<table border=\"1\" class=\"dataframe\">\n",
       "  <thead>\n",
       "    <tr style=\"text-align: right;\">\n",
       "      <th></th>\n",
       "      <th>alcohol</th>\n",
       "      <th>malic_acid</th>\n",
       "      <th>ash</th>\n",
       "      <th>alcalinity_of_ash</th>\n",
       "      <th>magnesium</th>\n",
       "      <th>total_phenols</th>\n",
       "      <th>flavanoids</th>\n",
       "      <th>nonflavanoid_phenols</th>\n",
       "      <th>proanthocyanins</th>\n",
       "      <th>color_intensity</th>\n",
       "      <th>hue</th>\n",
       "      <th>od280/od315_of_diluted_wines</th>\n",
       "      <th>proline</th>\n",
       "      <th>target</th>\n",
       "    </tr>\n",
       "  </thead>\n",
       "  <tbody>\n",
       "    <tr>\n",
       "      <th>0</th>\n",
       "      <td>14.23</td>\n",
       "      <td>1.71</td>\n",
       "      <td>2.43</td>\n",
       "      <td>15.6</td>\n",
       "      <td>127.0</td>\n",
       "      <td>2.80</td>\n",
       "      <td>3.06</td>\n",
       "      <td>0.28</td>\n",
       "      <td>C</td>\n",
       "      <td>5.64</td>\n",
       "      <td>1.04</td>\n",
       "      <td>3.92</td>\n",
       "      <td>1065.0</td>\n",
       "      <td>0</td>\n",
       "    </tr>\n",
       "    <tr>\n",
       "      <th>1</th>\n",
       "      <td>13.20</td>\n",
       "      <td>1.78</td>\n",
       "      <td>2.14</td>\n",
       "      <td>11.2</td>\n",
       "      <td>100.0</td>\n",
       "      <td>2.65</td>\n",
       "      <td>2.76</td>\n",
       "      <td>0.26</td>\n",
       "      <td>B</td>\n",
       "      <td>4.38</td>\n",
       "      <td>1.05</td>\n",
       "      <td>3.40</td>\n",
       "      <td>1050.0</td>\n",
       "      <td>0</td>\n",
       "    </tr>\n",
       "    <tr>\n",
       "      <th>2</th>\n",
       "      <td>13.16</td>\n",
       "      <td>2.36</td>\n",
       "      <td>2.67</td>\n",
       "      <td>18.6</td>\n",
       "      <td>101.0</td>\n",
       "      <td>2.80</td>\n",
       "      <td>3.24</td>\n",
       "      <td>0.30</td>\n",
       "      <td>D</td>\n",
       "      <td>5.68</td>\n",
       "      <td>1.03</td>\n",
       "      <td>3.17</td>\n",
       "      <td>1185.0</td>\n",
       "      <td>0</td>\n",
       "    </tr>\n",
       "    <tr>\n",
       "      <th>3</th>\n",
       "      <td>14.37</td>\n",
       "      <td>1.95</td>\n",
       "      <td>2.50</td>\n",
       "      <td>16.8</td>\n",
       "      <td>113.0</td>\n",
       "      <td>3.85</td>\n",
       "      <td>3.49</td>\n",
       "      <td>0.24</td>\n",
       "      <td>C</td>\n",
       "      <td>7.80</td>\n",
       "      <td>0.86</td>\n",
       "      <td>3.45</td>\n",
       "      <td>1480.0</td>\n",
       "      <td>0</td>\n",
       "    </tr>\n",
       "    <tr>\n",
       "      <th>4</th>\n",
       "      <td>13.24</td>\n",
       "      <td>2.59</td>\n",
       "      <td>2.87</td>\n",
       "      <td>21.0</td>\n",
       "      <td>118.0</td>\n",
       "      <td>2.80</td>\n",
       "      <td>2.69</td>\n",
       "      <td>0.39</td>\n",
       "      <td>B</td>\n",
       "      <td>4.32</td>\n",
       "      <td>1.04</td>\n",
       "      <td>2.93</td>\n",
       "      <td>735.0</td>\n",
       "      <td>0</td>\n",
       "    </tr>\n",
       "  </tbody>\n",
       "</table>\n",
       "</div>"
      ],
      "text/plain": [
       "   alcohol  malic_acid   ash  alcalinity_of_ash  magnesium  total_phenols  \\\n",
       "0    14.23        1.71  2.43               15.6      127.0           2.80   \n",
       "1    13.20        1.78  2.14               11.2      100.0           2.65   \n",
       "2    13.16        2.36  2.67               18.6      101.0           2.80   \n",
       "3    14.37        1.95  2.50               16.8      113.0           3.85   \n",
       "4    13.24        2.59  2.87               21.0      118.0           2.80   \n",
       "\n",
       "   flavanoids  nonflavanoid_phenols proanthocyanins  color_intensity   hue  \\\n",
       "0        3.06                  0.28               C             5.64  1.04   \n",
       "1        2.76                  0.26               B             4.38  1.05   \n",
       "2        3.24                  0.30               D             5.68  1.03   \n",
       "3        3.49                  0.24               C             7.80  0.86   \n",
       "4        2.69                  0.39               B             4.32  1.04   \n",
       "\n",
       "   od280/od315_of_diluted_wines  proline  target  \n",
       "0                          3.92   1065.0       0  \n",
       "1                          3.40   1050.0       0  \n",
       "2                          3.17   1185.0       0  \n",
       "3                          3.45   1480.0       0  \n",
       "4                          2.93    735.0       0  "
      ]
     },
     "execution_count": 27,
     "metadata": {},
     "output_type": "execute_result"
    }
   ],
   "source": [
    "# sequestial --> descrete\n",
    "# Numerical --> categorial\n",
    "\n",
    "wine[\"proanthocyanins\"]=cat\n",
    "wine.head()"
   ]
  },
  {
   "cell_type": "code",
   "execution_count": 28,
   "id": "687caacd-4b72-4323-a7e8-79dc9e513f7f",
   "metadata": {},
   "outputs": [],
   "source": [
    "# plt.figure(figsize=(6,4))\n",
    "# plt.title(\"proanthocyanins vs color intensity\")\n",
    "# sns.scatterplot(x=wine[\"proanthocyanins\"], y=wine[\"color_intensity\"])\n",
    "# plt.show()"
   ]
  },
  {
   "cell_type": "code",
   "execution_count": 30,
   "id": "a15df04b-1c44-45d7-b918-fabee09b395e",
   "metadata": {},
   "outputs": [
    {
     "data": {
      "text/plain": [
       "(25, 25)"
      ]
     },
     "execution_count": 30,
     "metadata": {},
     "output_type": "execute_result"
    }
   ],
   "source": [
    "sample1 = wine[\"ash\"].iloc[:25]\n",
    "sample2 = wine[\"ash\"].iloc[-25:]\n",
    "\n",
    "len(sample1), len(sample2)"
   ]
  },
  {
   "cell_type": "code",
   "execution_count": 31,
   "id": "8c7192e2-2f36-4b49-96e2-b75f41e56533",
   "metadata": {},
   "outputs": [
    {
     "name": "stdout",
     "output_type": "stream",
     "text": [
      "T Statistiacl value : 0.42966\n",
      "p value for t test : 0.66937\n",
      "sample1 and sample2 are equal (Accepting H0)\n"
     ]
    }
   ],
   "source": [
    "# H0 --> sample1 and sample2 are equal\n",
    "# Ha --> sample1 and sample2 are not equal\n",
    "\n",
    "# checking weather to accept or reject the null hypothesis\n",
    "t_stats, t_p = ttest_ind(sample1, sample2)\n",
    "\n",
    "print(\"T Statistiacl value : %.5f\"%t_stats)\n",
    "print(\"p value for t test : %.5f\"%t_p)\n",
    "\n",
    "alpha = 0.05\n",
    "if t_p > alpha:\n",
    "    print(\"sample1 and sample2 are equal (Accepting H0)\")\n",
    "else:\n",
    "    print(\"sample1 and sample2 are not equal (Rejecting H0)\")"
   ]
  },
  {
   "cell_type": "code",
   "execution_count": 32,
   "id": "4277f7df-99a3-4c98-8045-e9628e6cce5a",
   "metadata": {},
   "outputs": [
    {
     "data": {
      "text/plain": [
       "2.4744"
      ]
     },
     "execution_count": 32,
     "metadata": {},
     "output_type": "execute_result"
    }
   ],
   "source": [
    "sample1.mean()"
   ]
  },
  {
   "cell_type": "code",
   "execution_count": 33,
   "id": "16b2d7c4-127e-4885-8452-c16ee096d23a",
   "metadata": {},
   "outputs": [
    {
     "data": {
      "text/plain": [
       "2.452"
      ]
     },
     "execution_count": 33,
     "metadata": {},
     "output_type": "execute_result"
    }
   ],
   "source": [
    "sample2.mean()"
   ]
  },
  {
   "cell_type": "code",
   "execution_count": 34,
   "id": "b568ed9b-54d6-4649-b056-96349048159f",
   "metadata": {},
   "outputs": [
    {
     "data": {
      "text/html": [
       "<div>\n",
       "<style scoped>\n",
       "    .dataframe tbody tr th:only-of-type {\n",
       "        vertical-align: middle;\n",
       "    }\n",
       "\n",
       "    .dataframe tbody tr th {\n",
       "        vertical-align: top;\n",
       "    }\n",
       "\n",
       "    .dataframe thead th {\n",
       "        text-align: right;\n",
       "    }\n",
       "</style>\n",
       "<table border=\"1\" class=\"dataframe\">\n",
       "  <thead>\n",
       "    <tr style=\"text-align: right;\">\n",
       "      <th></th>\n",
       "      <th>alcohol</th>\n",
       "      <th>malic_acid</th>\n",
       "      <th>ash</th>\n",
       "      <th>alcalinity_of_ash</th>\n",
       "      <th>magnesium</th>\n",
       "      <th>total_phenols</th>\n",
       "      <th>flavanoids</th>\n",
       "      <th>nonflavanoid_phenols</th>\n",
       "      <th>proanthocyanins</th>\n",
       "      <th>color_intensity</th>\n",
       "      <th>hue</th>\n",
       "      <th>od280/od315_of_diluted_wines</th>\n",
       "      <th>proline</th>\n",
       "      <th>target</th>\n",
       "    </tr>\n",
       "  </thead>\n",
       "  <tbody>\n",
       "    <tr>\n",
       "      <th>0</th>\n",
       "      <td>14.23</td>\n",
       "      <td>1.71</td>\n",
       "      <td>2.43</td>\n",
       "      <td>15.6</td>\n",
       "      <td>127.0</td>\n",
       "      <td>2.80</td>\n",
       "      <td>3.06</td>\n",
       "      <td>0.28</td>\n",
       "      <td>C</td>\n",
       "      <td>5.64</td>\n",
       "      <td>1.04</td>\n",
       "      <td>3.92</td>\n",
       "      <td>1065.0</td>\n",
       "      <td>0</td>\n",
       "    </tr>\n",
       "    <tr>\n",
       "      <th>1</th>\n",
       "      <td>13.20</td>\n",
       "      <td>1.78</td>\n",
       "      <td>2.14</td>\n",
       "      <td>11.2</td>\n",
       "      <td>100.0</td>\n",
       "      <td>2.65</td>\n",
       "      <td>2.76</td>\n",
       "      <td>0.26</td>\n",
       "      <td>B</td>\n",
       "      <td>4.38</td>\n",
       "      <td>1.05</td>\n",
       "      <td>3.40</td>\n",
       "      <td>1050.0</td>\n",
       "      <td>0</td>\n",
       "    </tr>\n",
       "    <tr>\n",
       "      <th>2</th>\n",
       "      <td>13.16</td>\n",
       "      <td>2.36</td>\n",
       "      <td>2.67</td>\n",
       "      <td>18.6</td>\n",
       "      <td>101.0</td>\n",
       "      <td>2.80</td>\n",
       "      <td>3.24</td>\n",
       "      <td>0.30</td>\n",
       "      <td>D</td>\n",
       "      <td>5.68</td>\n",
       "      <td>1.03</td>\n",
       "      <td>3.17</td>\n",
       "      <td>1185.0</td>\n",
       "      <td>0</td>\n",
       "    </tr>\n",
       "    <tr>\n",
       "      <th>3</th>\n",
       "      <td>14.37</td>\n",
       "      <td>1.95</td>\n",
       "      <td>2.50</td>\n",
       "      <td>16.8</td>\n",
       "      <td>113.0</td>\n",
       "      <td>3.85</td>\n",
       "      <td>3.49</td>\n",
       "      <td>0.24</td>\n",
       "      <td>C</td>\n",
       "      <td>7.80</td>\n",
       "      <td>0.86</td>\n",
       "      <td>3.45</td>\n",
       "      <td>1480.0</td>\n",
       "      <td>0</td>\n",
       "    </tr>\n",
       "    <tr>\n",
       "      <th>4</th>\n",
       "      <td>13.24</td>\n",
       "      <td>2.59</td>\n",
       "      <td>2.87</td>\n",
       "      <td>21.0</td>\n",
       "      <td>118.0</td>\n",
       "      <td>2.80</td>\n",
       "      <td>2.69</td>\n",
       "      <td>0.39</td>\n",
       "      <td>B</td>\n",
       "      <td>4.32</td>\n",
       "      <td>1.04</td>\n",
       "      <td>2.93</td>\n",
       "      <td>735.0</td>\n",
       "      <td>0</td>\n",
       "    </tr>\n",
       "  </tbody>\n",
       "</table>\n",
       "</div>"
      ],
      "text/plain": [
       "   alcohol  malic_acid   ash  alcalinity_of_ash  magnesium  total_phenols  \\\n",
       "0    14.23        1.71  2.43               15.6      127.0           2.80   \n",
       "1    13.20        1.78  2.14               11.2      100.0           2.65   \n",
       "2    13.16        2.36  2.67               18.6      101.0           2.80   \n",
       "3    14.37        1.95  2.50               16.8      113.0           3.85   \n",
       "4    13.24        2.59  2.87               21.0      118.0           2.80   \n",
       "\n",
       "   flavanoids  nonflavanoid_phenols proanthocyanins  color_intensity   hue  \\\n",
       "0        3.06                  0.28               C             5.64  1.04   \n",
       "1        2.76                  0.26               B             4.38  1.05   \n",
       "2        3.24                  0.30               D             5.68  1.03   \n",
       "3        3.49                  0.24               C             7.80  0.86   \n",
       "4        2.69                  0.39               B             4.32  1.04   \n",
       "\n",
       "   od280/od315_of_diluted_wines  proline  target  \n",
       "0                          3.92   1065.0       0  \n",
       "1                          3.40   1050.0       0  \n",
       "2                          3.17   1185.0       0  \n",
       "3                          3.45   1480.0       0  \n",
       "4                          2.93    735.0       0  "
      ]
     },
     "execution_count": 34,
     "metadata": {},
     "output_type": "execute_result"
    }
   ],
   "source": [
    "wine.head()"
   ]
  },
  {
   "cell_type": "code",
   "execution_count": 35,
   "id": "8541da93-4840-4dbf-9b4e-f86b08d18eba",
   "metadata": {},
   "outputs": [
    {
     "data": {
      "image/png": "[encoded data removed]",
      "text/plain": [
       "<Figure size 640x480 with 1 Axes>"
      ]
     },
     "metadata": {},
     "output_type": "display_data"
    }
   ],
   "source": [
    "sns.histplot(x=wine[\"proline\"], bins=20, alpha=0.6, legend=False, kde= True)\n",
    "plt.show()"
   ]
  },
  {
   "cell_type": "code",
   "execution_count": 36,
   "id": "1e31447a-6e76-4558-aae1-037700381d1d",
   "metadata": {},
   "outputs": [
    {
     "data": {
      "text/plain": [
       "746.8932584269663"
      ]
     },
     "execution_count": 36,
     "metadata": {},
     "output_type": "execute_result"
    }
   ],
   "source": [
    "wine[\"proline\"].mean()"
   ]
  },
  {
   "cell_type": "code",
   "execution_count": 37,
   "id": "ab6e327e-53cf-48f2-85dc-708095c43f03",
   "metadata": {},
   "outputs": [],
   "source": [
    "sample1 = np.random.choice(wine[\"proline\"], size=34)\n",
    "sample2 = np.random.choice(wine[\"proline\"], size=34)"
   ]
  },
  {
   "cell_type": "code",
   "execution_count": 38,
   "id": "001a5932-7b30-4950-a493-614e8c30cad4",
   "metadata": {},
   "outputs": [
    {
     "name": "stdout",
     "output_type": "stream",
     "text": [
      "t-test statistical value : 0.20869\n",
      "t-test p value : 0.83533\n",
      "sample1 and sample2 are equal (Accepting H0)\n"
     ]
    }
   ],
   "source": [
    "# H0 --> sample1 and sample2 are not equal\n",
    "# Ha --> sample1 and sample2 are not equal\n",
    "\n",
    "t_stats, t_p = ttest_ind(sample1, sample2)\n",
    "\n",
    "print(\"t-test statistical value : %.5f\"%t_stats)\n",
    "print(\"t-test p value : %.5f\"%t_p)\n",
    "\n",
    "alpha = 0.05\n",
    "if t_p > alpha:\n",
    "    print(\"sample1 and sample2 are equal (Accepting H0)\")\n",
    "else:\n",
    "    print(\"sample1 and sample2 are not equal (Rejecting H0)\")"
   ]
  },
  {
   "cell_type": "code",
   "execution_count": 39,
   "id": "0d6e4d57-f35d-464d-952d-bb0d39253815",
   "metadata": {},
   "outputs": [
    {
     "data": {
      "text/plain": [
       "780.8235294117648"
      ]
     },
     "execution_count": 39,
     "metadata": {},
     "output_type": "execute_result"
    }
   ],
   "source": [
    "sample1.mean()"
   ]
  },
  {
   "cell_type": "code",
   "execution_count": 40,
   "id": "2067c96b-eb53-4c7f-8159-7acc36ae61c9",
   "metadata": {},
   "outputs": [
    {
     "data": {
      "text/plain": [
       "763.4705882352941"
      ]
     },
     "execution_count": 40,
     "metadata": {},
     "output_type": "execute_result"
    }
   ],
   "source": [
    "sample2.mean()"
   ]
  },
  {
   "cell_type": "code",
   "execution_count": 41,
   "id": "0842ac8f-97f1-4318-9f79-c8a2373f6ce0",
   "metadata": {},
   "outputs": [],
   "source": [
    "data = {\n",
    "    \"Gender\":np.random.choice([\"Male\", \"Female\"], 80),\n",
    "    \"Subject\":np.random.choice([\"Med\", \"Eng\"], 80)\n",
    "}"
   ]
  },
  {
   "cell_type": "code",
   "execution_count": 43,
   "id": "396157dc-f576-4942-af02-a7e0c7c11987",
   "metadata": {},
   "outputs": [
    {
     "data": {
      "text/html": [
       "<div>\n",
       "<style scoped>\n",
       "    .dataframe tbody tr th:only-of-type {\n",
       "        vertical-align: middle;\n",
       "    }\n",
       "\n",
       "    .dataframe tbody tr th {\n",
       "        vertical-align: top;\n",
       "    }\n",
       "\n",
       "    .dataframe thead th {\n",
       "        text-align: right;\n",
       "    }\n",
       "</style>\n",
       "<table border=\"1\" class=\"dataframe\">\n",
       "  <thead>\n",
       "    <tr style=\"text-align: right;\">\n",
       "      <th></th>\n",
       "      <th>Gender</th>\n",
       "      <th>Subject</th>\n",
       "    </tr>\n",
       "  </thead>\n",
       "  <tbody>\n",
       "    <tr>\n",
       "      <th>0</th>\n",
       "      <td>Male</td>\n",
       "      <td>Med</td>\n",
       "    </tr>\n",
       "    <tr>\n",
       "      <th>1</th>\n",
       "      <td>Female</td>\n",
       "      <td>Med</td>\n",
       "    </tr>\n",
       "    <tr>\n",
       "      <th>2</th>\n",
       "      <td>Male</td>\n",
       "      <td>Med</td>\n",
       "    </tr>\n",
       "    <tr>\n",
       "      <th>3</th>\n",
       "      <td>Female</td>\n",
       "      <td>Eng</td>\n",
       "    </tr>\n",
       "    <tr>\n",
       "      <th>4</th>\n",
       "      <td>Male</td>\n",
       "      <td>Eng</td>\n",
       "    </tr>\n",
       "    <tr>\n",
       "      <th>5</th>\n",
       "      <td>Male</td>\n",
       "      <td>Eng</td>\n",
       "    </tr>\n",
       "    <tr>\n",
       "      <th>6</th>\n",
       "      <td>Male</td>\n",
       "      <td>Eng</td>\n",
       "    </tr>\n",
       "    <tr>\n",
       "      <th>7</th>\n",
       "      <td>Female</td>\n",
       "      <td>Med</td>\n",
       "    </tr>\n",
       "    <tr>\n",
       "      <th>8</th>\n",
       "      <td>Female</td>\n",
       "      <td>Med</td>\n",
       "    </tr>\n",
       "    <tr>\n",
       "      <th>9</th>\n",
       "      <td>Female</td>\n",
       "      <td>Eng</td>\n",
       "    </tr>\n",
       "  </tbody>\n",
       "</table>\n",
       "</div>"
      ],
      "text/plain": [
       "   Gender Subject\n",
       "0    Male     Med\n",
       "1  Female     Med\n",
       "2    Male     Med\n",
       "3  Female     Eng\n",
       "4    Male     Eng\n",
       "5    Male     Eng\n",
       "6    Male     Eng\n",
       "7  Female     Med\n",
       "8  Female     Med\n",
       "9  Female     Eng"
      ]
     },
     "execution_count": 43,
     "metadata": {},
     "output_type": "execute_result"
    }
   ],
   "source": [
    "course = pd.DataFrame(data)\n",
    "course.head(10)"
   ]
  },
  {
   "cell_type": "code",
   "execution_count": 44,
   "id": "c49425d4-3a19-4330-ac6c-f4da212571bc",
   "metadata": {},
   "outputs": [],
   "source": [
    "crstb = pd.crosstab(course[\"Gender\"], course[\"Subject\"])"
   ]
  },
  {
   "cell_type": "code",
   "execution_count": 45,
   "id": "7642309c-075d-4632-ad25-9c41c06c9a37",
   "metadata": {},
   "outputs": [
    {
     "name": "stdout",
     "output_type": "stream",
     "text": [
      "chi2 statistical value : 0.00000\n",
      "chi2 p value : 1.00000\n",
      "More males doing medical and female doing engineering (Accepting H0)\n"
     ]
    }
   ],
   "source": [
    "# H0 --> More males doing Medical and Females doing Engineering\n",
    "# Ha --> It is not true\n",
    "\n",
    "chi_stat, chi_p, _, _ = chi2_contingency(crstb)\n",
    "\n",
    "print(\"chi2 statistical value : %.5f\"%chi_stat)\n",
    "print(\"chi2 p value : %.5f\"%chi_p)\n",
    "\n",
    "alpha = 0.05\n",
    "if chi_p > alpha:\n",
    "    print(\"More males doing medical and female doing engineering (Accepting H0)\")\n",
    "else:\n",
    "    print(\"Ir is not true (Rejecting H0)\")"
   ]
  },
  {
   "cell_type": "code",
   "execution_count": null,
   "id": "a387266e-76f5-4a6a-9985-669e76d5f984",
   "metadata": {},
   "outputs": [],
   "source": []
  }
 ],
 "metadata": {
  "kernelspec": {
   "display_name": "Python 3 (ipykernel)",
   "language": "python",
   "name": "python3"
  },
  "language_info": {
   "codemirror_mode": {
    "name": "ipython",
    "version": 3
   },
   "file_extension": ".py",
   "mimetype": "text/x-python",
   "name": "python",
   "nbconvert_exporter": "python",
   "pygments_lexer": "ipython3",
   "version": "3.11.5"
  }
 },
 "nbformat": 4,
 "nbformat_minor": 5
}
