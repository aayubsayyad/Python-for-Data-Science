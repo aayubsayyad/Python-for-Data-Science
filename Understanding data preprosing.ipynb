{
 "cells": [
  {
   "cell_type": "code",
   "execution_count": 1,
   "id": "74e33268-d3d9-40ed-8bda-6e0c9f9e4aea",
   "metadata": {},
   "outputs": [],
   "source": [
    "import numpy as np\n",
    "import pandas as pd\n",
    "import matplotlib.pyplot as plt\n",
    "import seaborn as sns\n",
    "import warnings\n",
    "warnings.filterwarnings(\"ignore\")"
   ]
  },
  {
   "cell_type": "code",
   "execution_count": 2,
   "id": "5efa4844-a93c-4d89-a200-f8393b2eee61",
   "metadata": {},
   "outputs": [],
   "source": [
    "data = pd.read_csv(r\"C:\\Users\\AAYUB SAYYAD\\Downloads\\laptops.csv\")"
   ]
  },
  {
   "cell_type": "code",
   "execution_count": 3,
   "id": "e4c3f05e-892c-4492-bb87-ab06740a3de0",
   "metadata": {},
   "outputs": [
    {
     "data": {
      "text/html": [
       "<div>\n",
       "<style scoped>\n",
       "    .dataframe tbody tr th:only-of-type {\n",
       "        vertical-align: middle;\n",
       "    }\n",
       "\n",
       "    .dataframe tbody tr th {\n",
       "        vertical-align: top;\n",
       "    }\n",
       "\n",
       "    .dataframe thead th {\n",
       "        text-align: right;\n",
       "    }\n",
       "</style>\n",
       "<table border=\"1\" class=\"dataframe\">\n",
       "  <thead>\n",
       "    <tr style=\"text-align: right;\">\n",
       "      <th></th>\n",
       "      <th>CompanyName</th>\n",
       "      <th>TypeOfLaptop</th>\n",
       "      <th>Inches</th>\n",
       "      <th>ScreenResolution</th>\n",
       "      <th>Cpu</th>\n",
       "      <th>Ram</th>\n",
       "      <th>Memory</th>\n",
       "      <th>Gpu</th>\n",
       "      <th>OpSys</th>\n",
       "      <th>Weight</th>\n",
       "      <th>Price</th>\n",
       "    </tr>\n",
       "  </thead>\n",
       "  <tbody>\n",
       "    <tr>\n",
       "      <th>0</th>\n",
       "      <td>MSI</td>\n",
       "      <td>Business Laptop</td>\n",
       "      <td>17.040680</td>\n",
       "      <td>IPS Panel Retina Display 2560x1600</td>\n",
       "      <td>Intel Core i7</td>\n",
       "      <td>12GB</td>\n",
       "      <td>512GB SSD</td>\n",
       "      <td>Intel Iris Xe Graphics</td>\n",
       "      <td>Linux</td>\n",
       "      <td>2.064834</td>\n",
       "      <td>35844.099371</td>\n",
       "    </tr>\n",
       "    <tr>\n",
       "      <th>1</th>\n",
       "      <td>Chuwi</td>\n",
       "      <td>2 in 1 Convertible</td>\n",
       "      <td>16.542395</td>\n",
       "      <td>Full HD</td>\n",
       "      <td>Intel Core i5</td>\n",
       "      <td>12GB</td>\n",
       "      <td>128GB PCIe SSD</td>\n",
       "      <td>Intel Iris Xe Graphics</td>\n",
       "      <td>No OS</td>\n",
       "      <td>4.060656</td>\n",
       "      <td>37019.059051</td>\n",
       "    </tr>\n",
       "    <tr>\n",
       "      <th>2</th>\n",
       "      <td>hp</td>\n",
       "      <td>WorkStation</td>\n",
       "      <td>17.295294</td>\n",
       "      <td>Full HD</td>\n",
       "      <td>Intel Xeon E3-1505M</td>\n",
       "      <td>8GB</td>\n",
       "      <td>1TB HDD</td>\n",
       "      <td>Intel Iris Xe Graphics</td>\n",
       "      <td>Linux</td>\n",
       "      <td>2.901689</td>\n",
       "      <td>33329.360341</td>\n",
       "    </tr>\n",
       "    <tr>\n",
       "      <th>3</th>\n",
       "      <td>MSI</td>\n",
       "      <td>2 in 1 Convertible</td>\n",
       "      <td>11.526203</td>\n",
       "      <td>2K</td>\n",
       "      <td>Intel Core i7</td>\n",
       "      <td>16GB</td>\n",
       "      <td>512GB NVMe SSD</td>\n",
       "      <td>Intel Iris Xe Graphics</td>\n",
       "      <td>Windows 10</td>\n",
       "      <td>2.914843</td>\n",
       "      <td>68631.102486</td>\n",
       "    </tr>\n",
       "    <tr>\n",
       "      <th>4</th>\n",
       "      <td>Microsoft</td>\n",
       "      <td>Gaming</td>\n",
       "      <td>12.649634</td>\n",
       "      <td>Full HD</td>\n",
       "      <td>Intel Core i5</td>\n",
       "      <td>8GB</td>\n",
       "      <td>512GB SSD</td>\n",
       "      <td>AMD Radeon RX 5600M</td>\n",
       "      <td>Windows 10</td>\n",
       "      <td>4.341995</td>\n",
       "      <td>33842.479566</td>\n",
       "    </tr>\n",
       "  </tbody>\n",
       "</table>\n",
       "</div>"
      ],
      "text/plain": [
       "  CompanyName        TypeOfLaptop     Inches  \\\n",
       "0         MSI     Business Laptop  17.040680   \n",
       "1       Chuwi  2 in 1 Convertible  16.542395   \n",
       "2          hp         WorkStation  17.295294   \n",
       "3         MSI  2 in 1 Convertible  11.526203   \n",
       "4   Microsoft              Gaming  12.649634   \n",
       "\n",
       "                     ScreenResolution                   Cpu   Ram  \\\n",
       "0  IPS Panel Retina Display 2560x1600         Intel Core i7  12GB   \n",
       "1                             Full HD         Intel Core i5  12GB   \n",
       "2                             Full HD  Intel Xeon E3-1505M    8GB   \n",
       "3                                  2K         Intel Core i7  16GB   \n",
       "4                             Full HD         Intel Core i5   8GB   \n",
       "\n",
       "           Memory                     Gpu       OpSys    Weight         Price  \n",
       "0       512GB SSD  Intel Iris Xe Graphics       Linux  2.064834  35844.099371  \n",
       "1  128GB PCIe SSD  Intel Iris Xe Graphics       No OS  4.060656  37019.059051  \n",
       "2         1TB HDD  Intel Iris Xe Graphics       Linux  2.901689  33329.360341  \n",
       "3  512GB NVMe SSD  Intel Iris Xe Graphics  Windows 10  2.914843  68631.102486  \n",
       "4       512GB SSD     AMD Radeon RX 5600M  Windows 10  4.341995  33842.479566  "
      ]
     },
     "execution_count": 3,
     "metadata": {},
     "output_type": "execute_result"
    }
   ],
   "source": [
    "df = data.copy()\n",
    "df.head()"
   ]
  },
  {
   "cell_type": "markdown",
   "id": "1125a7ea-c56e-4237-8c74-a7ae1a449266",
   "metadata": {},
   "source": [
    "# By using read_csv we getting data and copying in df"
   ]
  },
  {
   "cell_type": "code",
   "execution_count": 4,
   "id": "6851064f-f274-492d-a9c7-ce56a3f25858",
   "metadata": {},
   "outputs": [
    {
     "name": "stdout",
     "output_type": "stream",
     "text": [
      "<class 'pandas.core.frame.DataFrame'>\n",
      "RangeIndex: 1000 entries, 0 to 999\n",
      "Data columns (total 11 columns):\n",
      " #   Column            Non-Null Count  Dtype  \n",
      "---  ------            --------------  -----  \n",
      " 0   CompanyName       1000 non-null   object \n",
      " 1   TypeOfLaptop      1000 non-null   object \n",
      " 2   Inches            1000 non-null   float64\n",
      " 3   ScreenResolution  1000 non-null   object \n",
      " 4   Cpu               1000 non-null   object \n",
      " 5   Ram               1000 non-null   object \n",
      " 6   Memory            1000 non-null   object \n",
      " 7   Gpu               1000 non-null   object \n",
      " 8   OpSys             1000 non-null   object \n",
      " 9   Weight            1000 non-null   float64\n",
      " 10  Price             1000 non-null   float64\n",
      "dtypes: float64(3), object(8)\n",
      "memory usage: 86.1+ KB\n"
     ]
    }
   ],
   "source": [
    "df.info()"
   ]
  },
  {
   "cell_type": "markdown",
   "id": "e112b1d7-de3d-4c7e-a9b5-1602d61ab09c",
   "metadata": {},
   "source": [
    "## we check data frame information"
   ]
  },
  {
   "cell_type": "markdown",
   "id": "3d011ab3-fb2d-404b-866e-8bbfbc72f233",
   "metadata": {},
   "source": [
    "## we are now doing data generalize,normalization,denosing,cleaning"
   ]
  },
  {
   "cell_type": "code",
   "execution_count": 5,
   "id": "c255b835-c447-4970-ae13-ed60f32dc777",
   "metadata": {},
   "outputs": [
    {
     "data": {
      "text/html": [
       "<div>\n",
       "<style scoped>\n",
       "    .dataframe tbody tr th:only-of-type {\n",
       "        vertical-align: middle;\n",
       "    }\n",
       "\n",
       "    .dataframe tbody tr th {\n",
       "        vertical-align: top;\n",
       "    }\n",
       "\n",
       "    .dataframe thead th {\n",
       "        text-align: right;\n",
       "    }\n",
       "</style>\n",
       "<table border=\"1\" class=\"dataframe\">\n",
       "  <thead>\n",
       "    <tr style=\"text-align: right;\">\n",
       "      <th></th>\n",
       "      <th>Inches</th>\n",
       "      <th>Weight</th>\n",
       "      <th>Price</th>\n",
       "    </tr>\n",
       "  </thead>\n",
       "  <tbody>\n",
       "    <tr>\n",
       "      <th>count</th>\n",
       "      <td>1000.000000</td>\n",
       "      <td>1000.000000</td>\n",
       "      <td>1000.000000</td>\n",
       "    </tr>\n",
       "    <tr>\n",
       "      <th>mean</th>\n",
       "      <td>14.496646</td>\n",
       "      <td>3.469800</td>\n",
       "      <td>51602.255339</td>\n",
       "    </tr>\n",
       "    <tr>\n",
       "      <th>std</th>\n",
       "      <td>2.066624</td>\n",
       "      <td>0.857112</td>\n",
       "      <td>13802.833231</td>\n",
       "    </tr>\n",
       "    <tr>\n",
       "      <th>min</th>\n",
       "      <td>11.005842</td>\n",
       "      <td>2.000819</td>\n",
       "      <td>30060.275100</td>\n",
       "    </tr>\n",
       "    <tr>\n",
       "      <th>25%</th>\n",
       "      <td>12.677791</td>\n",
       "      <td>2.720228</td>\n",
       "      <td>40376.617670</td>\n",
       "    </tr>\n",
       "    <tr>\n",
       "      <th>50%</th>\n",
       "      <td>14.509298</td>\n",
       "      <td>3.477824</td>\n",
       "      <td>50683.971717</td>\n",
       "    </tr>\n",
       "    <tr>\n",
       "      <th>75%</th>\n",
       "      <td>16.313026</td>\n",
       "      <td>4.189891</td>\n",
       "      <td>61897.280126</td>\n",
       "    </tr>\n",
       "    <tr>\n",
       "      <th>max</th>\n",
       "      <td>17.998786</td>\n",
       "      <td>4.994556</td>\n",
       "      <td>115137.368077</td>\n",
       "    </tr>\n",
       "  </tbody>\n",
       "</table>\n",
       "</div>"
      ],
      "text/plain": [
       "            Inches       Weight          Price\n",
       "count  1000.000000  1000.000000    1000.000000\n",
       "mean     14.496646     3.469800   51602.255339\n",
       "std       2.066624     0.857112   13802.833231\n",
       "min      11.005842     2.000819   30060.275100\n",
       "25%      12.677791     2.720228   40376.617670\n",
       "50%      14.509298     3.477824   50683.971717\n",
       "75%      16.313026     4.189891   61897.280126\n",
       "max      17.998786     4.994556  115137.368077"
      ]
     },
     "execution_count": 5,
     "metadata": {},
     "output_type": "execute_result"
    }
   ],
   "source": [
    "df.describe()"
   ]
  },
  {
   "cell_type": "markdown",
   "id": "8087e407-91cf-4c24-a668-30d81254a6c0",
   "metadata": {},
   "source": [
    "## we get columns numerical value\n",
    "#### we get mean of inches is 14\n",
    "#### we get std inches is 2\n",
    "#### we get minimum inche is 11\n",
    "#### we get 25% value of inches is 12\n",
    "#### we get weight count is 1000\n",
    "#### we get mean weight is 3.4\n",
    "#### we get std of weight is 0.8\n",
    "#### we get minimun weight is 2\n",
    "#### we get price count is 1000\n",
    "#### we get price mean is 51602\n",
    "#### we get prise std is 13802\n",
    "#### we get minimun price is 30060"
   ]
  },
  {
   "cell_type": "code",
   "execution_count": 6,
   "id": "320832e0-5d60-4cb6-9dce-544efd84e02c",
   "metadata": {},
   "outputs": [
    {
     "data": {
      "text/plain": [
       "CompanyName\n",
       "MSI          128\n",
       "Microsoft    118\n",
       "Apple        113\n",
       "lenevo       113\n",
       "Asus         112\n",
       "Chuwi        109\n",
       "Acer         107\n",
       "Dell         101\n",
       "hp            99\n",
       "Name: count, dtype: int64"
      ]
     },
     "execution_count": 6,
     "metadata": {},
     "output_type": "execute_result"
    }
   ],
   "source": [
    "df[\"CompanyName\"].value_counts()"
   ]
  },
  {
   "cell_type": "markdown",
   "id": "53f4e80b-8317-4beb-b81e-5a61bc653ca7",
   "metadata": {},
   "source": [
    "### we check which compony name are available"
   ]
  },
  {
   "cell_type": "code",
   "execution_count": 8,
   "id": "9aba3b0c-7d53-460a-8386-79859396a03a",
   "metadata": {},
   "outputs": [],
   "source": [
    "df[\"CompanyName\"] = df[\"CompanyName\"].replace(\"Chuwi\", \"Samsung\")"
   ]
  },
  {
   "cell_type": "markdown",
   "id": "3991c984-83b3-4493-957b-d7f50f3dfbec",
   "metadata": {},
   "source": [
    "#### changing the compony name chuwi to samsung"
   ]
  },
  {
   "cell_type": "code",
   "execution_count": 9,
   "id": "2877e00e-d09a-421a-b48c-1d961c01d1eb",
   "metadata": {},
   "outputs": [
    {
     "data": {
      "text/plain": [
       "CompanyName\n",
       "MSI          128\n",
       "Microsoft    118\n",
       "Apple        113\n",
       "lenevo       113\n",
       "Asus         112\n",
       "Samsung      109\n",
       "Acer         107\n",
       "Dell         101\n",
       "hp            99\n",
       "Name: count, dtype: int64"
      ]
     },
     "execution_count": 9,
     "metadata": {},
     "output_type": "execute_result"
    }
   ],
   "source": [
    "df[\"CompanyName\"].value_counts()"
   ]
  },
  {
   "cell_type": "code",
   "execution_count": 11,
   "id": "23c90a36-d40e-4d2f-9653-91755c990f4f",
   "metadata": {},
   "outputs": [
    {
     "data": {
      "text/plain": [
       "TypeOfLaptop\n",
       "Business Laptop       176\n",
       "WorkStation           175\n",
       "Gaming                168\n",
       "UltraBook             166\n",
       "2 in 1 Convertible    162\n",
       "NoteBook              153\n",
       "Name: count, dtype: int64"
      ]
     },
     "execution_count": 11,
     "metadata": {},
     "output_type": "execute_result"
    }
   ],
   "source": [
    "df[\"TypeOfLaptop\"].value_counts()"
   ]
  },
  {
   "cell_type": "markdown",
   "id": "22ce45da-8041-4d8a-9029-81fb2e66d41d",
   "metadata": {},
   "source": [
    "#### check the which type of laptop available"
   ]
  },
  {
   "cell_type": "code",
   "execution_count": 12,
   "id": "1a5b15e8-fc2e-4db0-bec4-0385e7c0c679",
   "metadata": {},
   "outputs": [],
   "source": [
    "df[\"TypeOfLaptop\"] = df[\"TypeOfLaptop\"].replace(\"Business Laptop\", \"Business\")\n",
    "df[\"TypeOfLaptop\"] = df[\"TypeOfLaptop\"].replace(\"2 in 1 Convertible\", \"2_in_1\")\n"
   ]
  },
  {
   "cell_type": "markdown",
   "id": "ef55b63d-8660-4a21-a6db-ea39c7f3cff3",
   "metadata": {},
   "source": [
    "#### changing the laptop name business laptop to bussiness &\n",
    "#### 2 in 1 Convertible to 2_in_1"
   ]
  },
  {
   "cell_type": "code",
   "execution_count": 13,
   "id": "5346e16d-69e5-4553-bfd8-7bf975d12459",
   "metadata": {},
   "outputs": [
    {
     "data": {
      "text/plain": [
       "TypeOfLaptop\n",
       "Business       176\n",
       "WorkStation    175\n",
       "Gaming         168\n",
       "UltraBook      166\n",
       "2_in_1         162\n",
       "NoteBook       153\n",
       "Name: count, dtype: int64"
      ]
     },
     "execution_count": 13,
     "metadata": {},
     "output_type": "execute_result"
    }
   ],
   "source": [
    "df[\"TypeOfLaptop\"].value_counts()"
   ]
  },
  {
   "cell_type": "code",
   "execution_count": 15,
   "id": "bab60c39-a22a-4886-812d-b043d7219187",
   "metadata": {},
   "outputs": [],
   "source": [
    "df[\"Inches\"] = df[\"Inches\"].astype(\"int64\")"
   ]
  },
  {
   "cell_type": "markdown",
   "id": "df007798-45ff-4031-bac5-3b6c52ed20d8",
   "metadata": {},
   "source": [
    "### changing the column inches datatype float64 to int64"
   ]
  },
  {
   "cell_type": "code",
   "execution_count": 17,
   "id": "c2620b56-274c-4ee1-b3c4-bdd248a1b377",
   "metadata": {},
   "outputs": [
    {
     "data": {
      "text/plain": [
       "dtype('int64')"
      ]
     },
     "execution_count": 17,
     "metadata": {},
     "output_type": "execute_result"
    }
   ],
   "source": [
    "df[\"Inches\"].dtype"
   ]
  },
  {
   "cell_type": "code",
   "execution_count": 18,
   "id": "ee480474-27ad-479e-926d-8f5d1b8ae33d",
   "metadata": {},
   "outputs": [
    {
     "data": {
      "text/plain": [
       "ScreenResolution\n",
       "2K                                           181\n",
       "4K                                           179\n",
       "IPS Panel Full HD / Touchscreen 1920x1080    176\n",
       "Full HD                                      162\n",
       "HD 1920x1080                                 160\n",
       "IPS Panel Retina Display 2560x1600           142\n",
       "Name: count, dtype: int64"
      ]
     },
     "execution_count": 18,
     "metadata": {},
     "output_type": "execute_result"
    }
   ],
   "source": [
    "df[\"ScreenResolution\"].value_counts()"
   ]
  },
  {
   "cell_type": "code",
   "execution_count": 19,
   "id": "74be7b0d-0140-4a5e-ae20-93af4468119d",
   "metadata": {},
   "outputs": [],
   "source": [
    "df[\"ScreenResolution\"] = df[\"ScreenResolution\"].replace(\"IPS Panel Full HD / Touchscreen 1920x1080\", \"Touchscreen\")\n",
    "df[\"ScreenResolution\"] = df[\"ScreenResolution\"].replace(\"HD 1920x1080\", \"HD\")\n",
    "df[\"ScreenResolution\"] = df[\"ScreenResolution\"].replace(\"IPS Panel Retina Display 2560x1600\", \"Retina Display\")\n"
   ]
  },
  {
   "cell_type": "markdown",
   "id": "fca510c1-8ab8-4239-919e-7290faef108a",
   "metadata": {},
   "source": [
    "#### replacing the name of screen resolution rows "
   ]
  },
  {
   "cell_type": "code",
   "execution_count": 23,
   "id": "0e3282bc-4b88-473f-8425-38888516a3f3",
   "metadata": {},
   "outputs": [
    {
     "data": {
      "text/plain": [
       "ScreenResolution\n",
       "2K                181\n",
       "4K                179\n",
       "Touchscreen       176\n",
       "Full HD           162\n",
       "HD 1920x1080      160\n",
       "Retina Display    142\n",
       "Name: count, dtype: int64"
      ]
     },
     "execution_count": 23,
     "metadata": {},
     "output_type": "execute_result"
    }
   ],
   "source": [
    "df[\"ScreenResolution\"].value_counts()\n"
   ]
  },
  {
   "cell_type": "code",
   "execution_count": 24,
   "id": "65a06399-b796-4d14-adcd-10bdfc2b4bdf",
   "metadata": {},
   "outputs": [
    {
     "data": {
      "text/html": [
       "<div>\n",
       "<style scoped>\n",
       "    .dataframe tbody tr th:only-of-type {\n",
       "        vertical-align: middle;\n",
       "    }\n",
       "\n",
       "    .dataframe tbody tr th {\n",
       "        vertical-align: top;\n",
       "    }\n",
       "\n",
       "    .dataframe thead th {\n",
       "        text-align: right;\n",
       "    }\n",
       "</style>\n",
       "<table border=\"1\" class=\"dataframe\">\n",
       "  <thead>\n",
       "    <tr style=\"text-align: right;\">\n",
       "      <th></th>\n",
       "      <th>CompanyName</th>\n",
       "      <th>TypeOfLaptop</th>\n",
       "      <th>Inches</th>\n",
       "      <th>ScreenResolution</th>\n",
       "      <th>Cpu</th>\n",
       "      <th>Ram</th>\n",
       "      <th>Memory</th>\n",
       "      <th>Gpu</th>\n",
       "      <th>OpSys</th>\n",
       "      <th>Weight</th>\n",
       "      <th>Price</th>\n",
       "    </tr>\n",
       "  </thead>\n",
       "  <tbody>\n",
       "    <tr>\n",
       "      <th>0</th>\n",
       "      <td>MSI</td>\n",
       "      <td>Business</td>\n",
       "      <td>17</td>\n",
       "      <td>Retina Display</td>\n",
       "      <td>Intel Core i7</td>\n",
       "      <td>12GB</td>\n",
       "      <td>512GB SSD</td>\n",
       "      <td>Intel Iris Xe Graphics</td>\n",
       "      <td>Linux</td>\n",
       "      <td>2.064834</td>\n",
       "      <td>35844.099371</td>\n",
       "    </tr>\n",
       "    <tr>\n",
       "      <th>1</th>\n",
       "      <td>Samsung</td>\n",
       "      <td>2_in_1</td>\n",
       "      <td>16</td>\n",
       "      <td>Full HD</td>\n",
       "      <td>Intel Core i5</td>\n",
       "      <td>12GB</td>\n",
       "      <td>128GB PCIe SSD</td>\n",
       "      <td>Intel Iris Xe Graphics</td>\n",
       "      <td>No OS</td>\n",
       "      <td>4.060656</td>\n",
       "      <td>37019.059051</td>\n",
       "    </tr>\n",
       "    <tr>\n",
       "      <th>2</th>\n",
       "      <td>hp</td>\n",
       "      <td>WorkStation</td>\n",
       "      <td>17</td>\n",
       "      <td>Full HD</td>\n",
       "      <td>Intel Xeon E3-1505M</td>\n",
       "      <td>8GB</td>\n",
       "      <td>1TB HDD</td>\n",
       "      <td>Intel Iris Xe Graphics</td>\n",
       "      <td>Linux</td>\n",
       "      <td>2.901689</td>\n",
       "      <td>33329.360341</td>\n",
       "    </tr>\n",
       "    <tr>\n",
       "      <th>3</th>\n",
       "      <td>MSI</td>\n",
       "      <td>2_in_1</td>\n",
       "      <td>11</td>\n",
       "      <td>2K</td>\n",
       "      <td>Intel Core i7</td>\n",
       "      <td>16GB</td>\n",
       "      <td>512GB NVMe SSD</td>\n",
       "      <td>Intel Iris Xe Graphics</td>\n",
       "      <td>Windows 10</td>\n",
       "      <td>2.914843</td>\n",
       "      <td>68631.102486</td>\n",
       "    </tr>\n",
       "    <tr>\n",
       "      <th>4</th>\n",
       "      <td>Microsoft</td>\n",
       "      <td>Gaming</td>\n",
       "      <td>12</td>\n",
       "      <td>Full HD</td>\n",
       "      <td>Intel Core i5</td>\n",
       "      <td>8GB</td>\n",
       "      <td>512GB SSD</td>\n",
       "      <td>AMD Radeon RX 5600M</td>\n",
       "      <td>Windows 10</td>\n",
       "      <td>4.341995</td>\n",
       "      <td>33842.479566</td>\n",
       "    </tr>\n",
       "  </tbody>\n",
       "</table>\n",
       "</div>"
      ],
      "text/plain": [
       "  CompanyName TypeOfLaptop  Inches ScreenResolution                   Cpu  \\\n",
       "0         MSI     Business      17   Retina Display         Intel Core i7   \n",
       "1     Samsung       2_in_1      16          Full HD         Intel Core i5   \n",
       "2          hp  WorkStation      17          Full HD  Intel Xeon E3-1505M    \n",
       "3         MSI       2_in_1      11               2K         Intel Core i7   \n",
       "4   Microsoft       Gaming      12          Full HD         Intel Core i5   \n",
       "\n",
       "    Ram          Memory                     Gpu       OpSys    Weight  \\\n",
       "0  12GB       512GB SSD  Intel Iris Xe Graphics       Linux  2.064834   \n",
       "1  12GB  128GB PCIe SSD  Intel Iris Xe Graphics       No OS  4.060656   \n",
       "2   8GB         1TB HDD  Intel Iris Xe Graphics       Linux  2.901689   \n",
       "3  16GB  512GB NVMe SSD  Intel Iris Xe Graphics  Windows 10  2.914843   \n",
       "4   8GB       512GB SSD     AMD Radeon RX 5600M  Windows 10  4.341995   \n",
       "\n",
       "          Price  \n",
       "0  35844.099371  \n",
       "1  37019.059051  \n",
       "2  33329.360341  \n",
       "3  68631.102486  \n",
       "4  33842.479566  "
      ]
     },
     "execution_count": 24,
     "metadata": {},
     "output_type": "execute_result"
    }
   ],
   "source": [
    "df.head()"
   ]
  },
  {
   "cell_type": "code",
   "execution_count": 25,
   "id": "6b8ab66e-5ce2-4e34-83d2-8dbffb74a3c2",
   "metadata": {},
   "outputs": [
    {
     "data": {
      "text/plain": [
       "Cpu\n",
       "Intel Xeon E3-1505M               114\n",
       "Intel Atom x5-Z8550               111\n",
       "Intel Core i5                     105\n",
       "Intel Pentium Quad Core N4200     101\n",
       "Intel Celeron Dual Core 3855U      98\n",
       "Intel Core i7                      96\n",
       "Intel Core i9                      95\n",
       "AMD Ryzen 5                        94\n",
       "AMD Ryzen 7                        94\n",
       "AMD A9-Series 9420                 92\n",
       "Name: count, dtype: int64"
      ]
     },
     "execution_count": 25,
     "metadata": {},
     "output_type": "execute_result"
    }
   ],
   "source": [
    "df[\"Cpu\"].value_counts()"
   ]
  },
  {
   "cell_type": "code",
   "execution_count": 26,
   "id": "0c6dd248-1ded-48a4-8c2d-02fa862cd98c",
   "metadata": {},
   "outputs": [],
   "source": [
    "df[\"Cpu\"] = df[\"Cpu\"].replace(\"Intel Xeon E3-1505M \", \"Intel Xeon\")\n",
    "df[\"Cpu\"] = df[\"Cpu\"].replace(\"Intel Atom x5-Z8550\", \"Intel Atom\")\n",
    "df[\"Cpu\"] = df[\"Cpu\"].replace(\"Intel Core i5\", \"Intel i5\")\n",
    "df[\"Cpu\"] = df[\"Cpu\"].replace(\"Intel Core i7\", \"Intel i7\")\n",
    "df[\"Cpu\"] = df[\"Cpu\"].replace(\"Intel Core i9\", \"Intel i9\")\n",
    "df[\"Cpu\"] = df[\"Cpu\"].replace(\"Intel Pentium Quad Core N4200\", \"Intel Pentium\")\n",
    "df[\"Cpu\"] = df[\"Cpu\"].replace(\"Intel Celeron Dual Core 3855U \", \"Intel Celeron\")\n",
    "df[\"Cpu\"] = df[\"Cpu\"].replace(\"AMD Ryzen 5\", \"AMD 5\")\n",
    "df[\"Cpu\"] = df[\"Cpu\"].replace(\"AMD Ryzen 7\", \"AMD 7\")\n",
    "df[\"Cpu\"] = df[\"Cpu\"].replace(\"AMD A9-Series 9420\", \"AMD A9\")"
   ]
  },
  {
   "cell_type": "markdown",
   "id": "6a5d267e-990f-4e42-804d-cf638a4bce93",
   "metadata": {},
   "source": [
    "#### replacing the names of Cpu rows"
   ]
  },
  {
   "cell_type": "code",
   "execution_count": 27,
   "id": "0b6d5308-279a-4169-b4df-f8edfc0685ad",
   "metadata": {},
   "outputs": [
    {
     "data": {
      "text/plain": [
       "Cpu\n",
       "Intel Xeon       114\n",
       "Intel Atom       111\n",
       "Intel i5         105\n",
       "Intel Pentium    101\n",
       "Intel Celeron     98\n",
       "Intel i7          96\n",
       "Intel i9          95\n",
       "AMD 5             94\n",
       "AMD 7             94\n",
       "AMD A9            92\n",
       "Name: count, dtype: int64"
      ]
     },
     "execution_count": 27,
     "metadata": {},
     "output_type": "execute_result"
    }
   ],
   "source": [
    "df[\"Cpu\"].value_counts()\n"
   ]
  },
  {
   "cell_type": "code",
   "execution_count": 28,
   "id": "f25c6665-fb5c-4f9e-8844-1a7005e5298e",
   "metadata": {},
   "outputs": [
    {
     "data": {
      "text/plain": [
       "Ram\n",
       "8GB     270\n",
       "12GB    247\n",
       "4GB     243\n",
       "16GB    240\n",
       "Name: count, dtype: int64"
      ]
     },
     "execution_count": 28,
     "metadata": {},
     "output_type": "execute_result"
    }
   ],
   "source": [
    "df[\"Ram\"].value_counts()"
   ]
  },
  {
   "cell_type": "code",
   "execution_count": 29,
   "id": "fa751101-de0f-47dd-a7d3-771668e012d7",
   "metadata": {},
   "outputs": [],
   "source": [
    "df[\"Ram\"] = df[\"Ram\"].str.replace(\"GB\", \"\")\n"
   ]
  },
  {
   "cell_type": "code",
   "execution_count": 31,
   "id": "31785299-246e-4c57-b40f-4c7d88d04e26",
   "metadata": {},
   "outputs": [],
   "source": [
    "df[\"Ram\"] = df[\"Ram\"].astype(\"int64\")"
   ]
  },
  {
   "cell_type": "markdown",
   "id": "b7e78e26-e21c-45f8-9a60-2b336b10b7ad",
   "metadata": {},
   "source": [
    "#### replacing the Ram rows we are using string replace because we are only removing the string so\n",
    "#### also we changing the datatype object to int64"
   ]
  },
  {
   "cell_type": "code",
   "execution_count": 30,
   "id": "fa020590-0ff5-4285-8c85-b37004ee6128",
   "metadata": {},
   "outputs": [
    {
     "data": {
      "text/plain": [
       "Ram\n",
       "8     270\n",
       "12    247\n",
       "4     243\n",
       "16    240\n",
       "Name: count, dtype: int64"
      ]
     },
     "execution_count": 30,
     "metadata": {},
     "output_type": "execute_result"
    }
   ],
   "source": [
    "df[\"Ram\"].value_counts()\n"
   ]
  },
  {
   "cell_type": "code",
   "execution_count": 32,
   "id": "42f6632f-e819-4425-b7df-cffd6db18b53",
   "metadata": {},
   "outputs": [
    {
     "data": {
      "text/html": [
       "<div>\n",
       "<style scoped>\n",
       "    .dataframe tbody tr th:only-of-type {\n",
       "        vertical-align: middle;\n",
       "    }\n",
       "\n",
       "    .dataframe tbody tr th {\n",
       "        vertical-align: top;\n",
       "    }\n",
       "\n",
       "    .dataframe thead th {\n",
       "        text-align: right;\n",
       "    }\n",
       "</style>\n",
       "<table border=\"1\" class=\"dataframe\">\n",
       "  <thead>\n",
       "    <tr style=\"text-align: right;\">\n",
       "      <th></th>\n",
       "      <th>CompanyName</th>\n",
       "      <th>TypeOfLaptop</th>\n",
       "      <th>Inches</th>\n",
       "      <th>ScreenResolution</th>\n",
       "      <th>Cpu</th>\n",
       "      <th>Ram</th>\n",
       "      <th>Memory</th>\n",
       "      <th>Gpu</th>\n",
       "      <th>OpSys</th>\n",
       "      <th>Weight</th>\n",
       "      <th>Price</th>\n",
       "    </tr>\n",
       "  </thead>\n",
       "  <tbody>\n",
       "    <tr>\n",
       "      <th>0</th>\n",
       "      <td>MSI</td>\n",
       "      <td>Business</td>\n",
       "      <td>17</td>\n",
       "      <td>Retina Display</td>\n",
       "      <td>Intel i7</td>\n",
       "      <td>12</td>\n",
       "      <td>512GB SSD</td>\n",
       "      <td>Intel Iris Xe Graphics</td>\n",
       "      <td>Linux</td>\n",
       "      <td>2.064834</td>\n",
       "      <td>35844.099371</td>\n",
       "    </tr>\n",
       "    <tr>\n",
       "      <th>1</th>\n",
       "      <td>Samsung</td>\n",
       "      <td>2_in_1</td>\n",
       "      <td>16</td>\n",
       "      <td>Full HD</td>\n",
       "      <td>Intel i5</td>\n",
       "      <td>12</td>\n",
       "      <td>128GB PCIe SSD</td>\n",
       "      <td>Intel Iris Xe Graphics</td>\n",
       "      <td>No OS</td>\n",
       "      <td>4.060656</td>\n",
       "      <td>37019.059051</td>\n",
       "    </tr>\n",
       "    <tr>\n",
       "      <th>2</th>\n",
       "      <td>hp</td>\n",
       "      <td>WorkStation</td>\n",
       "      <td>17</td>\n",
       "      <td>Full HD</td>\n",
       "      <td>Intel Xeon</td>\n",
       "      <td>8</td>\n",
       "      <td>1TB HDD</td>\n",
       "      <td>Intel Iris Xe Graphics</td>\n",
       "      <td>Linux</td>\n",
       "      <td>2.901689</td>\n",
       "      <td>33329.360341</td>\n",
       "    </tr>\n",
       "    <tr>\n",
       "      <th>3</th>\n",
       "      <td>MSI</td>\n",
       "      <td>2_in_1</td>\n",
       "      <td>11</td>\n",
       "      <td>2K</td>\n",
       "      <td>Intel i7</td>\n",
       "      <td>16</td>\n",
       "      <td>512GB NVMe SSD</td>\n",
       "      <td>Intel Iris Xe Graphics</td>\n",
       "      <td>Windows 10</td>\n",
       "      <td>2.914843</td>\n",
       "      <td>68631.102486</td>\n",
       "    </tr>\n",
       "    <tr>\n",
       "      <th>4</th>\n",
       "      <td>Microsoft</td>\n",
       "      <td>Gaming</td>\n",
       "      <td>12</td>\n",
       "      <td>Full HD</td>\n",
       "      <td>Intel i5</td>\n",
       "      <td>8</td>\n",
       "      <td>512GB SSD</td>\n",
       "      <td>AMD Radeon RX 5600M</td>\n",
       "      <td>Windows 10</td>\n",
       "      <td>4.341995</td>\n",
       "      <td>33842.479566</td>\n",
       "    </tr>\n",
       "  </tbody>\n",
       "</table>\n",
       "</div>"
      ],
      "text/plain": [
       "  CompanyName TypeOfLaptop  Inches ScreenResolution         Cpu  Ram  \\\n",
       "0         MSI     Business      17   Retina Display    Intel i7   12   \n",
       "1     Samsung       2_in_1      16          Full HD    Intel i5   12   \n",
       "2          hp  WorkStation      17          Full HD  Intel Xeon    8   \n",
       "3         MSI       2_in_1      11               2K    Intel i7   16   \n",
       "4   Microsoft       Gaming      12          Full HD    Intel i5    8   \n",
       "\n",
       "           Memory                     Gpu       OpSys    Weight         Price  \n",
       "0       512GB SSD  Intel Iris Xe Graphics       Linux  2.064834  35844.099371  \n",
       "1  128GB PCIe SSD  Intel Iris Xe Graphics       No OS  4.060656  37019.059051  \n",
       "2         1TB HDD  Intel Iris Xe Graphics       Linux  2.901689  33329.360341  \n",
       "3  512GB NVMe SSD  Intel Iris Xe Graphics  Windows 10  2.914843  68631.102486  \n",
       "4       512GB SSD     AMD Radeon RX 5600M  Windows 10  4.341995  33842.479566  "
      ]
     },
     "execution_count": 32,
     "metadata": {},
     "output_type": "execute_result"
    }
   ],
   "source": [
    "df.head()"
   ]
  },
  {
   "cell_type": "code",
   "execution_count": 33,
   "id": "5fa608fb-e686-4564-8b71-223a3925ca51",
   "metadata": {},
   "outputs": [
    {
     "data": {
      "text/plain": [
       "Memory\n",
       "1TB HDD                105\n",
       "2TB SATA SSD            63\n",
       "1TB SSHD                61\n",
       "4TB HDD                 60\n",
       "512GB eMMC              59\n",
       "128GB PCIe SSD          58\n",
       "1TB NVMe SSD            55\n",
       "256GB PCIe SSD          55\n",
       "512GB NVMe SSD          54\n",
       "512GB SSD               51\n",
       "256GB SSD               50\n",
       "2TB HDD                 50\n",
       "1TB Fusion Drive        50\n",
       "2TB NVMe SSD            49\n",
       "256GB Flash Storage     46\n",
       "6TB HDD                 45\n",
       "256GB eMMC              45\n",
       "128GB SSD               44\n",
       "Name: count, dtype: int64"
      ]
     },
     "execution_count": 33,
     "metadata": {},
     "output_type": "execute_result"
    }
   ],
   "source": [
    "df[\"Memory\"].value_counts()"
   ]
  },
  {
   "cell_type": "code",
   "execution_count": 34,
   "id": "7dde1cba-5d9c-4430-92f5-b2236f7e54e8",
   "metadata": {},
   "outputs": [],
   "source": [
    "df[\"Memory\"] = df[\"Memory\"].str.replace(\"SATA \",\"\")\n",
    "df[\"Memory\"] = df[\"Memory\"].str.replace(\"SSHD\",\"SSD\")\n",
    "df[\"Memory\"] = df[\"Memory\"].str.replace(\"eMMC\",\"SSD\")\n",
    "df[\"Memory\"] = df[\"Memory\"].str.replace(\"PCIe \",\"\")\n",
    "df[\"Memory\"] = df[\"Memory\"].str.replace(\"NVMe \",\"\")\n",
    "df[\"Memory\"] = df[\"Memory\"].str.replace(\"Fusion Drive\",\"HDD\")\n",
    "df[\"Memory\"] = df[\"Memory\"].str.replace(\"Flash Storage\",\"SSD\")"
   ]
  },
  {
   "cell_type": "markdown",
   "id": "4d61a739-5ef3-491e-9b9f-1de1cbdf9662",
   "metadata": {},
   "source": [
    "#### replacing memory columns rows"
   ]
  },
  {
   "cell_type": "code",
   "execution_count": 35,
   "id": "5f302b12-2a21-48a1-ad14-28db90b28c72",
   "metadata": {},
   "outputs": [
    {
     "data": {
      "text/plain": [
       "Memory\n",
       "256GB SSD    196\n",
       "512GB SSD    164\n",
       "1TB HDD      155\n",
       "1TB SSD      116\n",
       "2TB SSD      112\n",
       "128GB SSD    102\n",
       "4TB HDD       60\n",
       "2TB HDD       50\n",
       "6TB HDD       45\n",
       "Name: count, dtype: int64"
      ]
     },
     "execution_count": 35,
     "metadata": {},
     "output_type": "execute_result"
    }
   ],
   "source": [
    "df[\"Memory\"].value_counts()\n"
   ]
  },
  {
   "cell_type": "code",
   "execution_count": 37,
   "id": "ee427790-339b-488b-93d7-75b139bf7cc8",
   "metadata": {},
   "outputs": [],
   "source": [
    "dummy_ssd = list(map(lambda x: x[:-3] if x[-3:] == \"SSD\" else \"0\", df[\"Memory\"]))"
   ]
  },
  {
   "cell_type": "code",
   "execution_count": 38,
   "id": "f0c00430-621e-471f-89a1-250538820d74",
   "metadata": {},
   "outputs": [
    {
     "data": {
      "text/plain": [
       "1000"
      ]
     },
     "execution_count": 38,
     "metadata": {},
     "output_type": "execute_result"
    }
   ],
   "source": [
    "len(dummy_ssd)"
   ]
  },
  {
   "cell_type": "code",
   "execution_count": 39,
   "id": "56d3e175-0891-45ef-8635-a91130ec759d",
   "metadata": {},
   "outputs": [],
   "source": [
    "dummy_hdd = list(map(lambda x: x[:-3] if x[-3:] == \"HDD\" else \"0\", df[\"Memory\"]))"
   ]
  },
  {
   "cell_type": "code",
   "execution_count": 40,
   "id": "b1302952-795b-4c4f-a34f-c630fd478ebf",
   "metadata": {},
   "outputs": [
    {
     "data": {
      "text/plain": [
       "1000"
      ]
     },
     "execution_count": 40,
     "metadata": {},
     "output_type": "execute_result"
    }
   ],
   "source": [
    "len(dummy_hdd)"
   ]
  },
  {
   "cell_type": "code",
   "execution_count": 41,
   "id": "02d2585d-3199-42ab-9a7f-ab57e3a9788e",
   "metadata": {},
   "outputs": [],
   "source": [
    "df[\"SSD\"] = dummy_ssd\n",
    "df[\"HDD\"] = dummy_hdd"
   ]
  },
  {
   "cell_type": "markdown",
   "id": "e5c3ad1b-7e3f-4951-9479-ea3f32fcecc6",
   "metadata": {},
   "source": [
    "#### we making a two column SSD and HDD from memory column"
   ]
  },
  {
   "cell_type": "code",
   "execution_count": 43,
   "id": "3b2d814f-eeb8-403c-a107-adae0c9dafee",
   "metadata": {},
   "outputs": [
    {
     "data": {
      "text/html": [
       "<div>\n",
       "<style scoped>\n",
       "    .dataframe tbody tr th:only-of-type {\n",
       "        vertical-align: middle;\n",
       "    }\n",
       "\n",
       "    .dataframe tbody tr th {\n",
       "        vertical-align: top;\n",
       "    }\n",
       "\n",
       "    .dataframe thead th {\n",
       "        text-align: right;\n",
       "    }\n",
       "</style>\n",
       "<table border=\"1\" class=\"dataframe\">\n",
       "  <thead>\n",
       "    <tr style=\"text-align: right;\">\n",
       "      <th></th>\n",
       "      <th>CompanyName</th>\n",
       "      <th>TypeOfLaptop</th>\n",
       "      <th>Inches</th>\n",
       "      <th>ScreenResolution</th>\n",
       "      <th>Cpu</th>\n",
       "      <th>Ram</th>\n",
       "      <th>Memory</th>\n",
       "      <th>Gpu</th>\n",
       "      <th>OpSys</th>\n",
       "      <th>Weight</th>\n",
       "      <th>Price</th>\n",
       "      <th>SSD</th>\n",
       "      <th>HDD</th>\n",
       "    </tr>\n",
       "  </thead>\n",
       "  <tbody>\n",
       "    <tr>\n",
       "      <th>0</th>\n",
       "      <td>MSI</td>\n",
       "      <td>Business</td>\n",
       "      <td>17</td>\n",
       "      <td>Retina Display</td>\n",
       "      <td>Intel i7</td>\n",
       "      <td>12</td>\n",
       "      <td>512GB SSD</td>\n",
       "      <td>Intel Iris Xe Graphics</td>\n",
       "      <td>Linux</td>\n",
       "      <td>2.064834</td>\n",
       "      <td>35844.099371</td>\n",
       "      <td>512GB</td>\n",
       "      <td>0</td>\n",
       "    </tr>\n",
       "    <tr>\n",
       "      <th>1</th>\n",
       "      <td>Samsung</td>\n",
       "      <td>2_in_1</td>\n",
       "      <td>16</td>\n",
       "      <td>Full HD</td>\n",
       "      <td>Intel i5</td>\n",
       "      <td>12</td>\n",
       "      <td>128GB SSD</td>\n",
       "      <td>Intel Iris Xe Graphics</td>\n",
       "      <td>No OS</td>\n",
       "      <td>4.060656</td>\n",
       "      <td>37019.059051</td>\n",
       "      <td>128GB</td>\n",
       "      <td>0</td>\n",
       "    </tr>\n",
       "    <tr>\n",
       "      <th>2</th>\n",
       "      <td>hp</td>\n",
       "      <td>WorkStation</td>\n",
       "      <td>17</td>\n",
       "      <td>Full HD</td>\n",
       "      <td>Intel Xeon</td>\n",
       "      <td>8</td>\n",
       "      <td>1TB HDD</td>\n",
       "      <td>Intel Iris Xe Graphics</td>\n",
       "      <td>Linux</td>\n",
       "      <td>2.901689</td>\n",
       "      <td>33329.360341</td>\n",
       "      <td>0</td>\n",
       "      <td>1TB</td>\n",
       "    </tr>\n",
       "    <tr>\n",
       "      <th>3</th>\n",
       "      <td>MSI</td>\n",
       "      <td>2_in_1</td>\n",
       "      <td>11</td>\n",
       "      <td>2K</td>\n",
       "      <td>Intel i7</td>\n",
       "      <td>16</td>\n",
       "      <td>512GB SSD</td>\n",
       "      <td>Intel Iris Xe Graphics</td>\n",
       "      <td>Windows 10</td>\n",
       "      <td>2.914843</td>\n",
       "      <td>68631.102486</td>\n",
       "      <td>512GB</td>\n",
       "      <td>0</td>\n",
       "    </tr>\n",
       "    <tr>\n",
       "      <th>4</th>\n",
       "      <td>Microsoft</td>\n",
       "      <td>Gaming</td>\n",
       "      <td>12</td>\n",
       "      <td>Full HD</td>\n",
       "      <td>Intel i5</td>\n",
       "      <td>8</td>\n",
       "      <td>512GB SSD</td>\n",
       "      <td>AMD Radeon RX 5600M</td>\n",
       "      <td>Windows 10</td>\n",
       "      <td>4.341995</td>\n",
       "      <td>33842.479566</td>\n",
       "      <td>512GB</td>\n",
       "      <td>0</td>\n",
       "    </tr>\n",
       "  </tbody>\n",
       "</table>\n",
       "</div>"
      ],
      "text/plain": [
       "  CompanyName TypeOfLaptop  Inches ScreenResolution         Cpu  Ram  \\\n",
       "0         MSI     Business      17   Retina Display    Intel i7   12   \n",
       "1     Samsung       2_in_1      16          Full HD    Intel i5   12   \n",
       "2          hp  WorkStation      17          Full HD  Intel Xeon    8   \n",
       "3         MSI       2_in_1      11               2K    Intel i7   16   \n",
       "4   Microsoft       Gaming      12          Full HD    Intel i5    8   \n",
       "\n",
       "      Memory                     Gpu       OpSys    Weight         Price  \\\n",
       "0  512GB SSD  Intel Iris Xe Graphics       Linux  2.064834  35844.099371   \n",
       "1  128GB SSD  Intel Iris Xe Graphics       No OS  4.060656  37019.059051   \n",
       "2    1TB HDD  Intel Iris Xe Graphics       Linux  2.901689  33329.360341   \n",
       "3  512GB SSD  Intel Iris Xe Graphics  Windows 10  2.914843  68631.102486   \n",
       "4  512GB SSD     AMD Radeon RX 5600M  Windows 10  4.341995  33842.479566   \n",
       "\n",
       "      SSD   HDD  \n",
       "0  512GB      0  \n",
       "1  128GB      0  \n",
       "2       0  1TB   \n",
       "3  512GB      0  \n",
       "4  512GB      0  "
      ]
     },
     "execution_count": 43,
     "metadata": {},
     "output_type": "execute_result"
    }
   ],
   "source": [
    "df.head()"
   ]
  },
  {
   "cell_type": "code",
   "execution_count": 45,
   "id": "b47241ae-4400-4b67-a12d-87f92a1b0c7d",
   "metadata": {},
   "outputs": [],
   "source": [
    "df.drop(\"Memory\", axis = 1, inplace=True)"
   ]
  },
  {
   "cell_type": "markdown",
   "id": "47129b72-339a-4aa5-8a5d-b3daf671a28a",
   "metadata": {},
   "source": [
    "#### we droping the column Memory"
   ]
  },
  {
   "cell_type": "code",
   "execution_count": 46,
   "id": "ae381afe-d614-4eee-9b30-cae650c85571",
   "metadata": {},
   "outputs": [
    {
     "data": {
      "text/html": [
       "<div>\n",
       "<style scoped>\n",
       "    .dataframe tbody tr th:only-of-type {\n",
       "        vertical-align: middle;\n",
       "    }\n",
       "\n",
       "    .dataframe tbody tr th {\n",
       "        vertical-align: top;\n",
       "    }\n",
       "\n",
       "    .dataframe thead th {\n",
       "        text-align: right;\n",
       "    }\n",
       "</style>\n",
       "<table border=\"1\" class=\"dataframe\">\n",
       "  <thead>\n",
       "    <tr style=\"text-align: right;\">\n",
       "      <th></th>\n",
       "      <th>CompanyName</th>\n",
       "      <th>TypeOfLaptop</th>\n",
       "      <th>Inches</th>\n",
       "      <th>ScreenResolution</th>\n",
       "      <th>Cpu</th>\n",
       "      <th>Ram</th>\n",
       "      <th>Gpu</th>\n",
       "      <th>OpSys</th>\n",
       "      <th>Weight</th>\n",
       "      <th>Price</th>\n",
       "      <th>SSD</th>\n",
       "      <th>HDD</th>\n",
       "    </tr>\n",
       "  </thead>\n",
       "  <tbody>\n",
       "    <tr>\n",
       "      <th>0</th>\n",
       "      <td>MSI</td>\n",
       "      <td>Business</td>\n",
       "      <td>17</td>\n",
       "      <td>Retina Display</td>\n",
       "      <td>Intel i7</td>\n",
       "      <td>12</td>\n",
       "      <td>Intel Iris Xe Graphics</td>\n",
       "      <td>Linux</td>\n",
       "      <td>2.064834</td>\n",
       "      <td>35844.099371</td>\n",
       "      <td>512GB</td>\n",
       "      <td>0</td>\n",
       "    </tr>\n",
       "    <tr>\n",
       "      <th>1</th>\n",
       "      <td>Samsung</td>\n",
       "      <td>2_in_1</td>\n",
       "      <td>16</td>\n",
       "      <td>Full HD</td>\n",
       "      <td>Intel i5</td>\n",
       "      <td>12</td>\n",
       "      <td>Intel Iris Xe Graphics</td>\n",
       "      <td>No OS</td>\n",
       "      <td>4.060656</td>\n",
       "      <td>37019.059051</td>\n",
       "      <td>128GB</td>\n",
       "      <td>0</td>\n",
       "    </tr>\n",
       "    <tr>\n",
       "      <th>2</th>\n",
       "      <td>hp</td>\n",
       "      <td>WorkStation</td>\n",
       "      <td>17</td>\n",
       "      <td>Full HD</td>\n",
       "      <td>Intel Xeon</td>\n",
       "      <td>8</td>\n",
       "      <td>Intel Iris Xe Graphics</td>\n",
       "      <td>Linux</td>\n",
       "      <td>2.901689</td>\n",
       "      <td>33329.360341</td>\n",
       "      <td>0</td>\n",
       "      <td>1TB</td>\n",
       "    </tr>\n",
       "    <tr>\n",
       "      <th>3</th>\n",
       "      <td>MSI</td>\n",
       "      <td>2_in_1</td>\n",
       "      <td>11</td>\n",
       "      <td>2K</td>\n",
       "      <td>Intel i7</td>\n",
       "      <td>16</td>\n",
       "      <td>Intel Iris Xe Graphics</td>\n",
       "      <td>Windows 10</td>\n",
       "      <td>2.914843</td>\n",
       "      <td>68631.102486</td>\n",
       "      <td>512GB</td>\n",
       "      <td>0</td>\n",
       "    </tr>\n",
       "    <tr>\n",
       "      <th>4</th>\n",
       "      <td>Microsoft</td>\n",
       "      <td>Gaming</td>\n",
       "      <td>12</td>\n",
       "      <td>Full HD</td>\n",
       "      <td>Intel i5</td>\n",
       "      <td>8</td>\n",
       "      <td>AMD Radeon RX 5600M</td>\n",
       "      <td>Windows 10</td>\n",
       "      <td>4.341995</td>\n",
       "      <td>33842.479566</td>\n",
       "      <td>512GB</td>\n",
       "      <td>0</td>\n",
       "    </tr>\n",
       "  </tbody>\n",
       "</table>\n",
       "</div>"
      ],
      "text/plain": [
       "  CompanyName TypeOfLaptop  Inches ScreenResolution         Cpu  Ram  \\\n",
       "0         MSI     Business      17   Retina Display    Intel i7   12   \n",
       "1     Samsung       2_in_1      16          Full HD    Intel i5   12   \n",
       "2          hp  WorkStation      17          Full HD  Intel Xeon    8   \n",
       "3         MSI       2_in_1      11               2K    Intel i7   16   \n",
       "4   Microsoft       Gaming      12          Full HD    Intel i5    8   \n",
       "\n",
       "                      Gpu       OpSys    Weight         Price     SSD   HDD  \n",
       "0  Intel Iris Xe Graphics       Linux  2.064834  35844.099371  512GB      0  \n",
       "1  Intel Iris Xe Graphics       No OS  4.060656  37019.059051  128GB      0  \n",
       "2  Intel Iris Xe Graphics       Linux  2.901689  33329.360341       0  1TB   \n",
       "3  Intel Iris Xe Graphics  Windows 10  2.914843  68631.102486  512GB      0  \n",
       "4     AMD Radeon RX 5600M  Windows 10  4.341995  33842.479566  512GB      0  "
      ]
     },
     "execution_count": 46,
     "metadata": {},
     "output_type": "execute_result"
    }
   ],
   "source": [
    "df.head()"
   ]
  },
  {
   "cell_type": "code",
   "execution_count": 47,
   "id": "311b8e4c-84e3-4166-854e-7b5d31b56df6",
   "metadata": {},
   "outputs": [
    {
     "data": {
      "text/plain": [
       "SSD\n",
       "0         310\n",
       "256GB     196\n",
       "512GB     164\n",
       "1TB       116\n",
       "2TB       112\n",
       "128GB     102\n",
       "Name: count, dtype: int64"
      ]
     },
     "execution_count": 47,
     "metadata": {},
     "output_type": "execute_result"
    }
   ],
   "source": [
    "df[\"SSD\"].value_counts()"
   ]
  },
  {
   "cell_type": "code",
   "execution_count": 48,
   "id": "e3a499b6-0501-4970-83db-f1f0cfa458da",
   "metadata": {},
   "outputs": [],
   "source": [
    "ssd = []\n",
    "for i in df[\"SSD\"]:\n",
    "    if \"GB\" in i:\n",
    "        ssd.append(int(i.replace(\"GB\",\"\")))\n",
    "    elif \"TB\" in i:\n",
    "        ssd.append(int(i.replace(\"TB\",\"\"))*1024)\n",
    "    else:\n",
    "        ssd.append(int(i))"
   ]
  },
  {
   "cell_type": "code",
   "execution_count": 49,
   "id": "90475ee4-be8f-44b6-8960-9ce093e21af9",
   "metadata": {},
   "outputs": [],
   "source": [
    "df[\"SSD\"] = ssd"
   ]
  },
  {
   "cell_type": "code",
   "execution_count": 50,
   "id": "ecab1dcb-cf1b-493d-85d2-6a9dca8d84f7",
   "metadata": {},
   "outputs": [
    {
     "data": {
      "text/plain": [
       "dtype('int64')"
      ]
     },
     "execution_count": 50,
     "metadata": {},
     "output_type": "execute_result"
    }
   ],
   "source": [
    "df[\"SSD\"].dtype"
   ]
  },
  {
   "cell_type": "markdown",
   "id": "f81a90c1-2d44-4925-9fb2-2682100d11c1",
   "metadata": {},
   "source": [
    "#### we want remove gb and tb so TB convert in gb & then remove"
   ]
  },
  {
   "cell_type": "code",
   "execution_count": 51,
   "id": "2592fd42-553b-46bb-b2a8-31d9cc0fc80a",
   "metadata": {},
   "outputs": [
    {
     "data": {
      "text/plain": [
       "SSD\n",
       "0       310\n",
       "256     196\n",
       "512     164\n",
       "1024    116\n",
       "2048    112\n",
       "128     102\n",
       "Name: count, dtype: int64"
      ]
     },
     "execution_count": 51,
     "metadata": {},
     "output_type": "execute_result"
    }
   ],
   "source": [
    "df[\"SSD\"].value_counts()\n"
   ]
  },
  {
   "cell_type": "code",
   "execution_count": 52,
   "id": "b000a837-c95e-4f89-a411-ad507a67adad",
   "metadata": {},
   "outputs": [
    {
     "data": {
      "text/plain": [
       "HDD\n",
       "0       690\n",
       "1TB     155\n",
       "4TB      60\n",
       "2TB      50\n",
       "6TB      45\n",
       "Name: count, dtype: int64"
      ]
     },
     "execution_count": 52,
     "metadata": {},
     "output_type": "execute_result"
    }
   ],
   "source": [
    "df[\"HDD\"].value_counts()"
   ]
  },
  {
   "cell_type": "code",
   "execution_count": 56,
   "id": "6eae4419-7267-46e6-933c-da8cedde9c92",
   "metadata": {},
   "outputs": [],
   "source": [
    "df[\"HDD\"] = df[\"HDD\"].str.replace(\"TB\",\"\")"
   ]
  },
  {
   "cell_type": "code",
   "execution_count": 57,
   "id": "07d7ed5a-5673-4728-869a-3e8bf0304bbd",
   "metadata": {},
   "outputs": [],
   "source": [
    "df[\"HDD\"] = df[\"HDD\"].astype(\"int64\")*1024"
   ]
  },
  {
   "cell_type": "code",
   "execution_count": 58,
   "id": "4ee7ee80-a512-45c9-93a7-99f5a79ae4c0",
   "metadata": {},
   "outputs": [
    {
     "data": {
      "text/html": [
       "<div>\n",
       "<style scoped>\n",
       "    .dataframe tbody tr th:only-of-type {\n",
       "        vertical-align: middle;\n",
       "    }\n",
       "\n",
       "    .dataframe tbody tr th {\n",
       "        vertical-align: top;\n",
       "    }\n",
       "\n",
       "    .dataframe thead th {\n",
       "        text-align: right;\n",
       "    }\n",
       "</style>\n",
       "<table border=\"1\" class=\"dataframe\">\n",
       "  <thead>\n",
       "    <tr style=\"text-align: right;\">\n",
       "      <th></th>\n",
       "      <th>CompanyName</th>\n",
       "      <th>TypeOfLaptop</th>\n",
       "      <th>Inches</th>\n",
       "      <th>ScreenResolution</th>\n",
       "      <th>Cpu</th>\n",
       "      <th>Ram</th>\n",
       "      <th>Gpu</th>\n",
       "      <th>OpSys</th>\n",
       "      <th>Weight</th>\n",
       "      <th>Price</th>\n",
       "      <th>SSD</th>\n",
       "      <th>HDD</th>\n",
       "    </tr>\n",
       "  </thead>\n",
       "  <tbody>\n",
       "    <tr>\n",
       "      <th>0</th>\n",
       "      <td>MSI</td>\n",
       "      <td>Business</td>\n",
       "      <td>17</td>\n",
       "      <td>Retina Display</td>\n",
       "      <td>Intel i7</td>\n",
       "      <td>12</td>\n",
       "      <td>Intel Iris Xe Graphics</td>\n",
       "      <td>Linux</td>\n",
       "      <td>2.064834</td>\n",
       "      <td>35844.099371</td>\n",
       "      <td>512</td>\n",
       "      <td>0</td>\n",
       "    </tr>\n",
       "    <tr>\n",
       "      <th>1</th>\n",
       "      <td>Samsung</td>\n",
       "      <td>2_in_1</td>\n",
       "      <td>16</td>\n",
       "      <td>Full HD</td>\n",
       "      <td>Intel i5</td>\n",
       "      <td>12</td>\n",
       "      <td>Intel Iris Xe Graphics</td>\n",
       "      <td>No OS</td>\n",
       "      <td>4.060656</td>\n",
       "      <td>37019.059051</td>\n",
       "      <td>128</td>\n",
       "      <td>0</td>\n",
       "    </tr>\n",
       "    <tr>\n",
       "      <th>2</th>\n",
       "      <td>hp</td>\n",
       "      <td>WorkStation</td>\n",
       "      <td>17</td>\n",
       "      <td>Full HD</td>\n",
       "      <td>Intel Xeon</td>\n",
       "      <td>8</td>\n",
       "      <td>Intel Iris Xe Graphics</td>\n",
       "      <td>Linux</td>\n",
       "      <td>2.901689</td>\n",
       "      <td>33329.360341</td>\n",
       "      <td>0</td>\n",
       "      <td>1024</td>\n",
       "    </tr>\n",
       "    <tr>\n",
       "      <th>3</th>\n",
       "      <td>MSI</td>\n",
       "      <td>2_in_1</td>\n",
       "      <td>11</td>\n",
       "      <td>2K</td>\n",
       "      <td>Intel i7</td>\n",
       "      <td>16</td>\n",
       "      <td>Intel Iris Xe Graphics</td>\n",
       "      <td>Windows 10</td>\n",
       "      <td>2.914843</td>\n",
       "      <td>68631.102486</td>\n",
       "      <td>512</td>\n",
       "      <td>0</td>\n",
       "    </tr>\n",
       "    <tr>\n",
       "      <th>4</th>\n",
       "      <td>Microsoft</td>\n",
       "      <td>Gaming</td>\n",
       "      <td>12</td>\n",
       "      <td>Full HD</td>\n",
       "      <td>Intel i5</td>\n",
       "      <td>8</td>\n",
       "      <td>AMD Radeon RX 5600M</td>\n",
       "      <td>Windows 10</td>\n",
       "      <td>4.341995</td>\n",
       "      <td>33842.479566</td>\n",
       "      <td>512</td>\n",
       "      <td>0</td>\n",
       "    </tr>\n",
       "  </tbody>\n",
       "</table>\n",
       "</div>"
      ],
      "text/plain": [
       "  CompanyName TypeOfLaptop  Inches ScreenResolution         Cpu  Ram  \\\n",
       "0         MSI     Business      17   Retina Display    Intel i7   12   \n",
       "1     Samsung       2_in_1      16          Full HD    Intel i5   12   \n",
       "2          hp  WorkStation      17          Full HD  Intel Xeon    8   \n",
       "3         MSI       2_in_1      11               2K    Intel i7   16   \n",
       "4   Microsoft       Gaming      12          Full HD    Intel i5    8   \n",
       "\n",
       "                      Gpu       OpSys    Weight         Price  SSD   HDD  \n",
       "0  Intel Iris Xe Graphics       Linux  2.064834  35844.099371  512     0  \n",
       "1  Intel Iris Xe Graphics       No OS  4.060656  37019.059051  128     0  \n",
       "2  Intel Iris Xe Graphics       Linux  2.901689  33329.360341    0  1024  \n",
       "3  Intel Iris Xe Graphics  Windows 10  2.914843  68631.102486  512     0  \n",
       "4     AMD Radeon RX 5600M  Windows 10  4.341995  33842.479566  512     0  "
      ]
     },
     "execution_count": 58,
     "metadata": {},
     "output_type": "execute_result"
    }
   ],
   "source": [
    "df.head()"
   ]
  },
  {
   "cell_type": "code",
   "execution_count": 59,
   "id": "b0a37fd0-fd4b-477f-aac1-ccba8093d726",
   "metadata": {},
   "outputs": [
    {
     "data": {
      "text/plain": [
       "Gpu\n",
       "NVIDIA GeForce GTX 1650    348\n",
       "AMD Radeon RX 5600M        339\n",
       "Intel Iris Xe Graphics     313\n",
       "Name: count, dtype: int64"
      ]
     },
     "execution_count": 59,
     "metadata": {},
     "output_type": "execute_result"
    }
   ],
   "source": [
    "df[\"Gpu\"].value_counts()"
   ]
  },
  {
   "cell_type": "code",
   "execution_count": 61,
   "id": "00c38692-96c8-405b-b002-f2e8e26b6db9",
   "metadata": {},
   "outputs": [],
   "source": [
    "gpu = list(map(lambda x: x[:6] if x[0]==\"N\" else (x[:3] if x[0]==\"A\" else x[:5]), df[\"Gpu\"]))"
   ]
  },
  {
   "cell_type": "code",
   "execution_count": 62,
   "id": "743dfd0c-683d-4dc1-8e6e-d104c9ad44a5",
   "metadata": {},
   "outputs": [],
   "source": [
    "df[\"Gpu\"] = gpu"
   ]
  },
  {
   "cell_type": "markdown",
   "id": "b0063ffe-8685-4d71-b13c-ed280e0db7d7",
   "metadata": {},
   "source": [
    "#### Changing the Gpu rows name"
   ]
  },
  {
   "cell_type": "code",
   "execution_count": 63,
   "id": "a29fdd2d-f265-43b8-813b-07b92f5395e6",
   "metadata": {},
   "outputs": [
    {
     "data": {
      "text/html": [
       "<div>\n",
       "<style scoped>\n",
       "    .dataframe tbody tr th:only-of-type {\n",
       "        vertical-align: middle;\n",
       "    }\n",
       "\n",
       "    .dataframe tbody tr th {\n",
       "        vertical-align: top;\n",
       "    }\n",
       "\n",
       "    .dataframe thead th {\n",
       "        text-align: right;\n",
       "    }\n",
       "</style>\n",
       "<table border=\"1\" class=\"dataframe\">\n",
       "  <thead>\n",
       "    <tr style=\"text-align: right;\">\n",
       "      <th></th>\n",
       "      <th>CompanyName</th>\n",
       "      <th>TypeOfLaptop</th>\n",
       "      <th>Inches</th>\n",
       "      <th>ScreenResolution</th>\n",
       "      <th>Cpu</th>\n",
       "      <th>Ram</th>\n",
       "      <th>Gpu</th>\n",
       "      <th>OpSys</th>\n",
       "      <th>Weight</th>\n",
       "      <th>Price</th>\n",
       "      <th>SSD</th>\n",
       "      <th>HDD</th>\n",
       "    </tr>\n",
       "  </thead>\n",
       "  <tbody>\n",
       "    <tr>\n",
       "      <th>0</th>\n",
       "      <td>MSI</td>\n",
       "      <td>Business</td>\n",
       "      <td>17</td>\n",
       "      <td>Retina Display</td>\n",
       "      <td>Intel i7</td>\n",
       "      <td>12</td>\n",
       "      <td>Intel</td>\n",
       "      <td>Linux</td>\n",
       "      <td>2.064834</td>\n",
       "      <td>35844.099371</td>\n",
       "      <td>512</td>\n",
       "      <td>0</td>\n",
       "    </tr>\n",
       "    <tr>\n",
       "      <th>1</th>\n",
       "      <td>Samsung</td>\n",
       "      <td>2_in_1</td>\n",
       "      <td>16</td>\n",
       "      <td>Full HD</td>\n",
       "      <td>Intel i5</td>\n",
       "      <td>12</td>\n",
       "      <td>Intel</td>\n",
       "      <td>No OS</td>\n",
       "      <td>4.060656</td>\n",
       "      <td>37019.059051</td>\n",
       "      <td>128</td>\n",
       "      <td>0</td>\n",
       "    </tr>\n",
       "    <tr>\n",
       "      <th>2</th>\n",
       "      <td>hp</td>\n",
       "      <td>WorkStation</td>\n",
       "      <td>17</td>\n",
       "      <td>Full HD</td>\n",
       "      <td>Intel Xeon</td>\n",
       "      <td>8</td>\n",
       "      <td>Intel</td>\n",
       "      <td>Linux</td>\n",
       "      <td>2.901689</td>\n",
       "      <td>33329.360341</td>\n",
       "      <td>0</td>\n",
       "      <td>1024</td>\n",
       "    </tr>\n",
       "    <tr>\n",
       "      <th>3</th>\n",
       "      <td>MSI</td>\n",
       "      <td>2_in_1</td>\n",
       "      <td>11</td>\n",
       "      <td>2K</td>\n",
       "      <td>Intel i7</td>\n",
       "      <td>16</td>\n",
       "      <td>Intel</td>\n",
       "      <td>Windows 10</td>\n",
       "      <td>2.914843</td>\n",
       "      <td>68631.102486</td>\n",
       "      <td>512</td>\n",
       "      <td>0</td>\n",
       "    </tr>\n",
       "    <tr>\n",
       "      <th>4</th>\n",
       "      <td>Microsoft</td>\n",
       "      <td>Gaming</td>\n",
       "      <td>12</td>\n",
       "      <td>Full HD</td>\n",
       "      <td>Intel i5</td>\n",
       "      <td>8</td>\n",
       "      <td>AMD</td>\n",
       "      <td>Windows 10</td>\n",
       "      <td>4.341995</td>\n",
       "      <td>33842.479566</td>\n",
       "      <td>512</td>\n",
       "      <td>0</td>\n",
       "    </tr>\n",
       "  </tbody>\n",
       "</table>\n",
       "</div>"
      ],
      "text/plain": [
       "  CompanyName TypeOfLaptop  Inches ScreenResolution         Cpu  Ram    Gpu  \\\n",
       "0         MSI     Business      17   Retina Display    Intel i7   12  Intel   \n",
       "1     Samsung       2_in_1      16          Full HD    Intel i5   12  Intel   \n",
       "2          hp  WorkStation      17          Full HD  Intel Xeon    8  Intel   \n",
       "3         MSI       2_in_1      11               2K    Intel i7   16  Intel   \n",
       "4   Microsoft       Gaming      12          Full HD    Intel i5    8    AMD   \n",
       "\n",
       "        OpSys    Weight         Price  SSD   HDD  \n",
       "0       Linux  2.064834  35844.099371  512     0  \n",
       "1       No OS  4.060656  37019.059051  128     0  \n",
       "2       Linux  2.901689  33329.360341    0  1024  \n",
       "3  Windows 10  2.914843  68631.102486  512     0  \n",
       "4  Windows 10  4.341995  33842.479566  512     0  "
      ]
     },
     "execution_count": 63,
     "metadata": {},
     "output_type": "execute_result"
    }
   ],
   "source": [
    "df.head()"
   ]
  },
  {
   "cell_type": "code",
   "execution_count": 64,
   "id": "b069c971-3b40-4017-90ba-b195045b0aba",
   "metadata": {},
   "outputs": [
    {
     "data": {
      "text/plain": [
       "OpSys\n",
       "No OS         224\n",
       "macOS         219\n",
       "Windows 10    194\n",
       "Linux         187\n",
       "Windows 11    176\n",
       "Name: count, dtype: int64"
      ]
     },
     "execution_count": 64,
     "metadata": {},
     "output_type": "execute_result"
    }
   ],
   "source": [
    "df[\"OpSys\"].value_counts()"
   ]
  },
  {
   "cell_type": "code",
   "execution_count": 65,
   "id": "306d3595-e7e7-4617-86ae-2675bd757cd6",
   "metadata": {},
   "outputs": [],
   "source": [
    "df[\"OpSys\"] = df[\"OpSys\"].str.replace(\"No \", \"D\")\n",
    "df[\"OpSys\"] = df[\"OpSys\"].str.replace(\"Windows \", \"Win\")"
   ]
  },
  {
   "cell_type": "code",
   "execution_count": 66,
   "id": "fbcd61fa-966a-4741-ab1e-c7488186be1e",
   "metadata": {},
   "outputs": [
    {
     "data": {
      "text/plain": [
       "array(['Linux', 'DOS', 'Win10', 'macOS', 'Win11'], dtype=object)"
      ]
     },
     "execution_count": 66,
     "metadata": {},
     "output_type": "execute_result"
    }
   ],
   "source": [
    "df[\"OpSys\"].unique()"
   ]
  },
  {
   "cell_type": "raw",
   "id": "f81420c9-1219-4dfa-a801-a1df02dc5153",
   "metadata": {},
   "source": [
    "### changing the OpSys rows name"
   ]
  },
  {
   "cell_type": "code",
   "execution_count": 67,
   "id": "887a1cd6-80fb-4187-8867-7a410734f11c",
   "metadata": {},
   "outputs": [
    {
     "data": {
      "text/html": [
       "<div>\n",
       "<style scoped>\n",
       "    .dataframe tbody tr th:only-of-type {\n",
       "        vertical-align: middle;\n",
       "    }\n",
       "\n",
       "    .dataframe tbody tr th {\n",
       "        vertical-align: top;\n",
       "    }\n",
       "\n",
       "    .dataframe thead th {\n",
       "        text-align: right;\n",
       "    }\n",
       "</style>\n",
       "<table border=\"1\" class=\"dataframe\">\n",
       "  <thead>\n",
       "    <tr style=\"text-align: right;\">\n",
       "      <th></th>\n",
       "      <th>CompanyName</th>\n",
       "      <th>TypeOfLaptop</th>\n",
       "      <th>Inches</th>\n",
       "      <th>ScreenResolution</th>\n",
       "      <th>Cpu</th>\n",
       "      <th>Ram</th>\n",
       "      <th>Gpu</th>\n",
       "      <th>OpSys</th>\n",
       "      <th>Weight</th>\n",
       "      <th>Price</th>\n",
       "      <th>SSD</th>\n",
       "      <th>HDD</th>\n",
       "    </tr>\n",
       "  </thead>\n",
       "  <tbody>\n",
       "    <tr>\n",
       "      <th>0</th>\n",
       "      <td>MSI</td>\n",
       "      <td>Business</td>\n",
       "      <td>17</td>\n",
       "      <td>Retina Display</td>\n",
       "      <td>Intel i7</td>\n",
       "      <td>12</td>\n",
       "      <td>Intel</td>\n",
       "      <td>Linux</td>\n",
       "      <td>2.064834</td>\n",
       "      <td>35844.099371</td>\n",
       "      <td>512</td>\n",
       "      <td>0</td>\n",
       "    </tr>\n",
       "    <tr>\n",
       "      <th>1</th>\n",
       "      <td>Samsung</td>\n",
       "      <td>2_in_1</td>\n",
       "      <td>16</td>\n",
       "      <td>Full HD</td>\n",
       "      <td>Intel i5</td>\n",
       "      <td>12</td>\n",
       "      <td>Intel</td>\n",
       "      <td>DOS</td>\n",
       "      <td>4.060656</td>\n",
       "      <td>37019.059051</td>\n",
       "      <td>128</td>\n",
       "      <td>0</td>\n",
       "    </tr>\n",
       "    <tr>\n",
       "      <th>2</th>\n",
       "      <td>hp</td>\n",
       "      <td>WorkStation</td>\n",
       "      <td>17</td>\n",
       "      <td>Full HD</td>\n",
       "      <td>Intel Xeon</td>\n",
       "      <td>8</td>\n",
       "      <td>Intel</td>\n",
       "      <td>Linux</td>\n",
       "      <td>2.901689</td>\n",
       "      <td>33329.360341</td>\n",
       "      <td>0</td>\n",
       "      <td>1024</td>\n",
       "    </tr>\n",
       "    <tr>\n",
       "      <th>3</th>\n",
       "      <td>MSI</td>\n",
       "      <td>2_in_1</td>\n",
       "      <td>11</td>\n",
       "      <td>2K</td>\n",
       "      <td>Intel i7</td>\n",
       "      <td>16</td>\n",
       "      <td>Intel</td>\n",
       "      <td>Win10</td>\n",
       "      <td>2.914843</td>\n",
       "      <td>68631.102486</td>\n",
       "      <td>512</td>\n",
       "      <td>0</td>\n",
       "    </tr>\n",
       "    <tr>\n",
       "      <th>4</th>\n",
       "      <td>Microsoft</td>\n",
       "      <td>Gaming</td>\n",
       "      <td>12</td>\n",
       "      <td>Full HD</td>\n",
       "      <td>Intel i5</td>\n",
       "      <td>8</td>\n",
       "      <td>AMD</td>\n",
       "      <td>Win10</td>\n",
       "      <td>4.341995</td>\n",
       "      <td>33842.479566</td>\n",
       "      <td>512</td>\n",
       "      <td>0</td>\n",
       "    </tr>\n",
       "  </tbody>\n",
       "</table>\n",
       "</div>"
      ],
      "text/plain": [
       "  CompanyName TypeOfLaptop  Inches ScreenResolution         Cpu  Ram    Gpu  \\\n",
       "0         MSI     Business      17   Retina Display    Intel i7   12  Intel   \n",
       "1     Samsung       2_in_1      16          Full HD    Intel i5   12  Intel   \n",
       "2          hp  WorkStation      17          Full HD  Intel Xeon    8  Intel   \n",
       "3         MSI       2_in_1      11               2K    Intel i7   16  Intel   \n",
       "4   Microsoft       Gaming      12          Full HD    Intel i5    8    AMD   \n",
       "\n",
       "   OpSys    Weight         Price  SSD   HDD  \n",
       "0  Linux  2.064834  35844.099371  512     0  \n",
       "1    DOS  4.060656  37019.059051  128     0  \n",
       "2  Linux  2.901689  33329.360341    0  1024  \n",
       "3  Win10  2.914843  68631.102486  512     0  \n",
       "4  Win10  4.341995  33842.479566  512     0  "
      ]
     },
     "execution_count": 67,
     "metadata": {},
     "output_type": "execute_result"
    }
   ],
   "source": [
    "df.head()"
   ]
  },
  {
   "cell_type": "code",
   "execution_count": 68,
   "id": "2875a545-c49f-413a-9237-7010325b9ff0",
   "metadata": {},
   "outputs": [],
   "source": [
    "df[\"Price\"] = df[\"Price\"].astype(\"int64\")"
   ]
  },
  {
   "cell_type": "markdown",
   "id": "2dbe2565-c3b2-4cea-9e4c-8e1bab0e42a4",
   "metadata": {},
   "source": [
    "#### price in the integer form"
   ]
  },
  {
   "cell_type": "code",
   "execution_count": 69,
   "id": "76e1ee96-5cc7-44be-ad29-5c99c8b4717b",
   "metadata": {},
   "outputs": [
    {
     "data": {
      "text/html": [
       "<div>\n",
       "<style scoped>\n",
       "    .dataframe tbody tr th:only-of-type {\n",
       "        vertical-align: middle;\n",
       "    }\n",
       "\n",
       "    .dataframe tbody tr th {\n",
       "        vertical-align: top;\n",
       "    }\n",
       "\n",
       "    .dataframe thead th {\n",
       "        text-align: right;\n",
       "    }\n",
       "</style>\n",
       "<table border=\"1\" class=\"dataframe\">\n",
       "  <thead>\n",
       "    <tr style=\"text-align: right;\">\n",
       "      <th></th>\n",
       "      <th>CompanyName</th>\n",
       "      <th>TypeOfLaptop</th>\n",
       "      <th>Inches</th>\n",
       "      <th>ScreenResolution</th>\n",
       "      <th>Cpu</th>\n",
       "      <th>Ram</th>\n",
       "      <th>Gpu</th>\n",
       "      <th>OpSys</th>\n",
       "      <th>Weight</th>\n",
       "      <th>Price</th>\n",
       "      <th>SSD</th>\n",
       "      <th>HDD</th>\n",
       "    </tr>\n",
       "  </thead>\n",
       "  <tbody>\n",
       "    <tr>\n",
       "      <th>0</th>\n",
       "      <td>MSI</td>\n",
       "      <td>Business</td>\n",
       "      <td>17</td>\n",
       "      <td>Retina Display</td>\n",
       "      <td>Intel i7</td>\n",
       "      <td>12</td>\n",
       "      <td>Intel</td>\n",
       "      <td>Linux</td>\n",
       "      <td>2.064834</td>\n",
       "      <td>35844</td>\n",
       "      <td>512</td>\n",
       "      <td>0</td>\n",
       "    </tr>\n",
       "    <tr>\n",
       "      <th>1</th>\n",
       "      <td>Samsung</td>\n",
       "      <td>2_in_1</td>\n",
       "      <td>16</td>\n",
       "      <td>Full HD</td>\n",
       "      <td>Intel i5</td>\n",
       "      <td>12</td>\n",
       "      <td>Intel</td>\n",
       "      <td>DOS</td>\n",
       "      <td>4.060656</td>\n",
       "      <td>37019</td>\n",
       "      <td>128</td>\n",
       "      <td>0</td>\n",
       "    </tr>\n",
       "    <tr>\n",
       "      <th>2</th>\n",
       "      <td>hp</td>\n",
       "      <td>WorkStation</td>\n",
       "      <td>17</td>\n",
       "      <td>Full HD</td>\n",
       "      <td>Intel Xeon</td>\n",
       "      <td>8</td>\n",
       "      <td>Intel</td>\n",
       "      <td>Linux</td>\n",
       "      <td>2.901689</td>\n",
       "      <td>33329</td>\n",
       "      <td>0</td>\n",
       "      <td>1024</td>\n",
       "    </tr>\n",
       "    <tr>\n",
       "      <th>3</th>\n",
       "      <td>MSI</td>\n",
       "      <td>2_in_1</td>\n",
       "      <td>11</td>\n",
       "      <td>2K</td>\n",
       "      <td>Intel i7</td>\n",
       "      <td>16</td>\n",
       "      <td>Intel</td>\n",
       "      <td>Win10</td>\n",
       "      <td>2.914843</td>\n",
       "      <td>68631</td>\n",
       "      <td>512</td>\n",
       "      <td>0</td>\n",
       "    </tr>\n",
       "    <tr>\n",
       "      <th>4</th>\n",
       "      <td>Microsoft</td>\n",
       "      <td>Gaming</td>\n",
       "      <td>12</td>\n",
       "      <td>Full HD</td>\n",
       "      <td>Intel i5</td>\n",
       "      <td>8</td>\n",
       "      <td>AMD</td>\n",
       "      <td>Win10</td>\n",
       "      <td>4.341995</td>\n",
       "      <td>33842</td>\n",
       "      <td>512</td>\n",
       "      <td>0</td>\n",
       "    </tr>\n",
       "  </tbody>\n",
       "</table>\n",
       "</div>"
      ],
      "text/plain": [
       "  CompanyName TypeOfLaptop  Inches ScreenResolution         Cpu  Ram    Gpu  \\\n",
       "0         MSI     Business      17   Retina Display    Intel i7   12  Intel   \n",
       "1     Samsung       2_in_1      16          Full HD    Intel i5   12  Intel   \n",
       "2          hp  WorkStation      17          Full HD  Intel Xeon    8  Intel   \n",
       "3         MSI       2_in_1      11               2K    Intel i7   16  Intel   \n",
       "4   Microsoft       Gaming      12          Full HD    Intel i5    8    AMD   \n",
       "\n",
       "   OpSys    Weight  Price  SSD   HDD  \n",
       "0  Linux  2.064834  35844  512     0  \n",
       "1    DOS  4.060656  37019  128     0  \n",
       "2  Linux  2.901689  33329    0  1024  \n",
       "3  Win10  2.914843  68631  512     0  \n",
       "4  Win10  4.341995  33842  512     0  "
      ]
     },
     "execution_count": 69,
     "metadata": {},
     "output_type": "execute_result"
    }
   ],
   "source": [
    "df.head()"
   ]
  },
  {
   "cell_type": "code",
   "execution_count": 70,
   "id": "93b08631-d885-44e6-93ea-e4ed350e622f",
   "metadata": {},
   "outputs": [
    {
     "data": {
      "image/png": "[encoded data removed]",
      "text/plain": [
       "<Figure size 640x480 with 1 Axes>"
      ]
     },
     "metadata": {},
     "output_type": "display_data"
    }
   ],
   "source": [
    "sns.countplot(x = df[\"CompanyName\"])\n",
    "plt.show()"
   ]
  },
  {
   "cell_type": "code",
   "execution_count": 71,
   "id": "3036d35d-1ac3-4c03-8dc2-1c0e28e9d44b",
   "metadata": {},
   "outputs": [
    {
     "data": {
      "text/html": [
       "<div>\n",
       "<style scoped>\n",
       "    .dataframe tbody tr th:only-of-type {\n",
       "        vertical-align: middle;\n",
       "    }\n",
       "\n",
       "    .dataframe tbody tr th {\n",
       "        vertical-align: top;\n",
       "    }\n",
       "\n",
       "    .dataframe thead th {\n",
       "        text-align: right;\n",
       "    }\n",
       "</style>\n",
       "<table border=\"1\" class=\"dataframe\">\n",
       "  <thead>\n",
       "    <tr style=\"text-align: right;\">\n",
       "      <th>TypeOfLaptop</th>\n",
       "      <th>2_in_1</th>\n",
       "      <th>Business</th>\n",
       "      <th>Gaming</th>\n",
       "      <th>NoteBook</th>\n",
       "      <th>UltraBook</th>\n",
       "      <th>WorkStation</th>\n",
       "    </tr>\n",
       "    <tr>\n",
       "      <th>CompanyName</th>\n",
       "      <th></th>\n",
       "      <th></th>\n",
       "      <th></th>\n",
       "      <th></th>\n",
       "      <th></th>\n",
       "      <th></th>\n",
       "    </tr>\n",
       "  </thead>\n",
       "  <tbody>\n",
       "    <tr>\n",
       "      <th>Acer</th>\n",
       "      <td>18</td>\n",
       "      <td>15</td>\n",
       "      <td>16</td>\n",
       "      <td>17</td>\n",
       "      <td>17</td>\n",
       "      <td>24</td>\n",
       "    </tr>\n",
       "    <tr>\n",
       "      <th>Apple</th>\n",
       "      <td>24</td>\n",
       "      <td>16</td>\n",
       "      <td>21</td>\n",
       "      <td>12</td>\n",
       "      <td>20</td>\n",
       "      <td>20</td>\n",
       "    </tr>\n",
       "    <tr>\n",
       "      <th>Asus</th>\n",
       "      <td>17</td>\n",
       "      <td>20</td>\n",
       "      <td>21</td>\n",
       "      <td>11</td>\n",
       "      <td>25</td>\n",
       "      <td>18</td>\n",
       "    </tr>\n",
       "    <tr>\n",
       "      <th>Dell</th>\n",
       "      <td>12</td>\n",
       "      <td>16</td>\n",
       "      <td>21</td>\n",
       "      <td>15</td>\n",
       "      <td>17</td>\n",
       "      <td>20</td>\n",
       "    </tr>\n",
       "    <tr>\n",
       "      <th>MSI</th>\n",
       "      <td>16</td>\n",
       "      <td>28</td>\n",
       "      <td>22</td>\n",
       "      <td>26</td>\n",
       "      <td>13</td>\n",
       "      <td>23</td>\n",
       "    </tr>\n",
       "    <tr>\n",
       "      <th>Microsoft</th>\n",
       "      <td>27</td>\n",
       "      <td>22</td>\n",
       "      <td>27</td>\n",
       "      <td>15</td>\n",
       "      <td>13</td>\n",
       "      <td>14</td>\n",
       "    </tr>\n",
       "    <tr>\n",
       "      <th>Samsung</th>\n",
       "      <td>13</td>\n",
       "      <td>24</td>\n",
       "      <td>14</td>\n",
       "      <td>18</td>\n",
       "      <td>18</td>\n",
       "      <td>22</td>\n",
       "    </tr>\n",
       "    <tr>\n",
       "      <th>hp</th>\n",
       "      <td>17</td>\n",
       "      <td>15</td>\n",
       "      <td>16</td>\n",
       "      <td>20</td>\n",
       "      <td>21</td>\n",
       "      <td>10</td>\n",
       "    </tr>\n",
       "    <tr>\n",
       "      <th>lenevo</th>\n",
       "      <td>18</td>\n",
       "      <td>20</td>\n",
       "      <td>10</td>\n",
       "      <td>19</td>\n",
       "      <td>22</td>\n",
       "      <td>24</td>\n",
       "    </tr>\n",
       "  </tbody>\n",
       "</table>\n",
       "</div>"
      ],
      "text/plain": [
       "TypeOfLaptop  2_in_1  Business  Gaming  NoteBook  UltraBook  WorkStation\n",
       "CompanyName                                                             \n",
       "Acer              18        15      16        17         17           24\n",
       "Apple             24        16      21        12         20           20\n",
       "Asus              17        20      21        11         25           18\n",
       "Dell              12        16      21        15         17           20\n",
       "MSI               16        28      22        26         13           23\n",
       "Microsoft         27        22      27        15         13           14\n",
       "Samsung           13        24      14        18         18           22\n",
       "hp                17        15      16        20         21           10\n",
       "lenevo            18        20      10        19         22           24"
      ]
     },
     "execution_count": 71,
     "metadata": {},
     "output_type": "execute_result"
    }
   ],
   "source": [
    "pd.crosstab(df[\"CompanyName\"], df[\"TypeOfLaptop\"])"
   ]
  },
  {
   "cell_type": "code",
   "execution_count": null,
   "id": "f055ab56-7485-4658-9d01-2b7ba56bb7c7",
   "metadata": {},
   "outputs": [],
   "source": []
  }
 ],
 "metadata": {
  "kernelspec": {
   "display_name": "Python 3 (ipykernel)",
   "language": "python",
   "name": "python3"
  },
  "language_info": {
   "codemirror_mode": {
    "name": "ipython",
    "version": 3
   },
   "file_extension": ".py",
   "mimetype": "text/x-python",
   "name": "python",
   "nbconvert_exporter": "python",
   "pygments_lexer": "ipython3",
   "version": "3.11.5"
  }
 },
 "nbformat": 4,
 "nbformat_minor": 5
}
